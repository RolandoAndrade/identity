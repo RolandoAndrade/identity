{
  "cells": [
    {
      "cell_type": "markdown",
      "metadata": {
        "id": "olFX0rGP34WL"
      },
      "source": [
        "# Identity\n",
        "\n",
        "IA que permite desbloquear una vista si se le muestra la persona correcta."
      ]
    },
    {
      "cell_type": "markdown",
      "metadata": {
        "id": "aze4MD5k4AF3"
      },
      "source": [
        "# Temas a tratar\n",
        "\n",
        "* SVMs\n",
        "* Estrategias de clasificación multiclase\n",
        "* Kernels\n",
        "* Visión por computadora\n",
        "* PCA\n",
        "* Tuning con GridSearch y CrossValidation"
      ]
    },
    {
      "cell_type": "markdown",
      "metadata": {
        "id": "E5fipykS5Emh"
      },
      "source": [
        "# Objetivo\n",
        "\n",
        "Desarrollar un modelo de inteligencia artificial (IA) llamado Identity que, dado una imagen de una persona identifique quién es y si es la persona adecuada desbloquee el dispositivo."
      ]
    },
    {
      "cell_type": "markdown",
      "metadata": {
        "id": "YDp_iv435ggb"
      },
      "source": [
        "# Problema\n",
        "\n",
        "Proteger un dispositivo es demasiado complicado y tedioso. La introducción de pines, patrones o la mala calidad de los sensores de huellas hacen que una tarea tan sencilla como desbloquear una pantalla sea muy complicado."
      ]
    },
    {
      "cell_type": "markdown",
      "metadata": {
        "id": "01XP20WW6ZJf"
      },
      "source": [
        "# Solución Propuesta\n",
        "\n",
        "Ante esto se propone crear un mecanismo de desbloqueo facial que simplifique el proceso y de accesso a la persona adecuada de acuerdo a sus características faciales."
      ]
    },
    {
      "cell_type": "markdown",
      "metadata": {
        "id": "eKAGCnRZ6QWR"
      },
      "source": [
        "# Desarrollo"
      ]
    },
    {
      "cell_type": "markdown",
      "metadata": {
        "id": "iosZ2hdyizcl"
      },
      "source": [
        "## Recopilación de datos\n",
        "\n",
        "Para identificar entre personas hay varias formas de entrenar un modelo. Para mostrar un ejemplo, usaremos uno de los datasets de ejemplo de sklearn."
      ]
    },
    {
      "cell_type": "code",
      "execution_count": null,
      "metadata": {
        "id": "t2yDqvsSjJkn"
      },
      "outputs": [],
      "source": [
        "from sklearn.datasets import fetch_lfw_people\n",
        "\n",
        "# Descargamos al menos 80 imágenes por persona\n",
        "face_images = fetch_lfw_people(min_faces_per_person=80)"
      ]
    },
    {
      "cell_type": "markdown",
      "metadata": {
        "id": "VkJdzqhakD53"
      },
      "source": [
        "## Análisis y preprocesamiento de datos"
      ]
    },
    {
      "cell_type": "markdown",
      "metadata": {
        "id": "PCVPKtWmkKtF"
      },
      "source": [
        "### Análisis de datos"
      ]
    },
    {
      "cell_type": "markdown",
      "metadata": {
        "id": "UaLbhtpEx3zn"
      },
      "source": [
        "Vemos qué es face_images"
      ]
    },
    {
      "cell_type": "code",
      "execution_count": null,
      "metadata": {
        "colab": {
          "base_uri": "https://localhost:8080/"
        },
        "id": "AkZQLbHPkNUi",
        "outputId": "5cd9ce72-4ec0-4e97-e7e1-55316becbf71"
      },
      "outputs": [
        {
          "name": "stdout",
          "output_type": "stream",
          "text": [
            "{'data': array([[0.32026145, 0.34771243, 0.26013073, ..., 0.4       , 0.5542484 ,\n",
            "        0.82483655],\n",
            "       [0.21045752, 0.18954249, 0.27189544, ..., 0.9281046 , 0.89673203,\n",
            "        0.86928105],\n",
            "       [0.14379086, 0.151634  , 0.16209151, ..., 0.3869281 , 0.2784314 ,\n",
            "        0.23137255],\n",
            "       ...,\n",
            "       [0.8457516 , 0.83398694, 0.8091503 , ..., 0.57254905, 0.54509807,\n",
            "        0.62614375],\n",
            "       [0.37124184, 0.4627451 , 0.52287585, ..., 0.8679738 , 0.8392157 ,\n",
            "        0.5124183 ],\n",
            "       [0.13594772, 0.3124183 , 0.427451  , ..., 0.09411765, 0.14248367,\n",
            "        0.08366013]], dtype=float32), 'images': array([[[0.32026145, 0.34771243, 0.26013073, ..., 0.4143791 ,\n",
            "         0.39215687, 0.351634  ],\n",
            "        [0.3503268 , 0.39346406, 0.18300654, ..., 0.4392157 ,\n",
            "         0.40261438, 0.36862746],\n",
            "        [0.3764706 , 0.3529412 , 0.20522876, ..., 0.33594772,\n",
            "         0.39607844, 0.37254903],\n",
            "        ...,\n",
            "        [0.08104575, 0.09673203, 0.1254902 , ..., 0.39477125,\n",
            "         0.38169935, 0.41960785],\n",
            "        [0.08366013, 0.09673203, 0.10980392, ..., 0.42091504,\n",
            "         0.39346406, 0.5908497 ],\n",
            "        [0.11764706, 0.11895425, 0.13202615, ..., 0.4       ,\n",
            "         0.5542484 , 0.82483655]],\n",
            "\n",
            "       [[0.21045752, 0.18954249, 0.27189544, ..., 0.30980393,\n",
            "         0.16862746, 0.1385621 ],\n",
            "        [0.1633987 , 0.16862746, 0.27320263, ..., 0.4745098 ,\n",
            "         0.28627452, 0.1882353 ],\n",
            "        [0.14379086, 0.18954249, 0.3006536 , ..., 0.5895425 ,\n",
            "         0.41830066, 0.2522876 ],\n",
            "        ...,\n",
            "        [0.5555556 , 0.44836602, 0.2522876 , ..., 0.90457517,\n",
            "         0.8849673 , 0.85490197],\n",
            "        [0.5150327 , 0.35555556, 0.22091503, ..., 0.91764706,\n",
            "         0.8901961 , 0.8653595 ],\n",
            "        [0.42875817, 0.27320263, 0.22222222, ..., 0.9281046 ,\n",
            "         0.89673203, 0.86928105]],\n",
            "\n",
            "       [[0.14379086, 0.151634  , 0.16209151, ..., 0.33071896,\n",
            "         0.3254902 , 0.33333337],\n",
            "        [0.14379086, 0.14640523, 0.15947713, ..., 0.32156864,\n",
            "         0.31111112, 0.3267974 ],\n",
            "        [0.14640523, 0.14509805, 0.18431373, ..., 0.3267974 ,\n",
            "         0.31895426, 0.32026145],\n",
            "        ...,\n",
            "        [0.09411765, 0.08235294, 0.07843138, ..., 0.27450982,\n",
            "         0.22745098, 0.17777778],\n",
            "        [0.09150327, 0.08627451, 0.07189543, ..., 0.3542484 ,\n",
            "         0.25490198, 0.20522876],\n",
            "        [0.08627451, 0.08235294, 0.07712419, ..., 0.3869281 ,\n",
            "         0.2784314 , 0.23137255]],\n",
            "\n",
            "       ...,\n",
            "\n",
            "       [[0.8457516 , 0.83398694, 0.8091503 , ..., 0.37385622,\n",
            "         0.3267974 , 0.3385621 ],\n",
            "        [0.83660126, 0.8039215 , 0.7398693 , ..., 0.45228758,\n",
            "         0.3647059 , 0.39738563],\n",
            "        [0.8352942 , 0.7751634 , 0.7202614 , ..., 0.55816996,\n",
            "         0.42745098, 0.42222223],\n",
            "        ...,\n",
            "        [0.23398693, 0.20784314, 0.18169935, ..., 0.52418303,\n",
            "         0.58562094, 0.6039216 ],\n",
            "        [0.20653595, 0.17777778, 0.15294118, ..., 0.5647059 ,\n",
            "         0.58300656, 0.6418301 ],\n",
            "        [0.20130719, 0.18300654, 0.16078432, ..., 0.57254905,\n",
            "         0.54509807, 0.62614375]],\n",
            "\n",
            "       [[0.37124184, 0.4627451 , 0.52287585, ..., 0.66013074,\n",
            "         0.6052287 , 0.57908505],\n",
            "        [0.3869281 , 0.5019608 , 0.53464055, ..., 0.6640523 ,\n",
            "         0.6300654 , 0.6052287 ],\n",
            "        [0.44444445, 0.524183  , 0.5372549 , ..., 0.6836602 ,\n",
            "         0.63529414, 0.6169935 ],\n",
            "        ...,\n",
            "        [0.99477124, 0.99346405, 0.9908497 , ..., 0.7921569 ,\n",
            "         0.89542484, 0.88758165],\n",
            "        [0.9921569 , 0.9921568 , 0.9908497 , ..., 0.85751635,\n",
            "         0.8784314 , 0.7215686 ],\n",
            "        [0.9921568 , 0.9908497 , 0.9895425 , ..., 0.8679738 ,\n",
            "         0.8392157 , 0.5124183 ]],\n",
            "\n",
            "       [[0.13594772, 0.3124183 , 0.427451  , ..., 0.23529412,\n",
            "         0.22352941, 0.18562092],\n",
            "        [0.18431373, 0.30588236, 0.4993464 , ..., 0.26797387,\n",
            "         0.28104576, 0.23660131],\n",
            "        [0.22875817, 0.4013072 , 0.59869283, ..., 0.25882354,\n",
            "         0.3006536 , 0.28366014],\n",
            "        ...,\n",
            "        [0.03267974, 0.03529412, 0.05620915, ..., 0.11503268,\n",
            "         0.1006536 , 0.15686275],\n",
            "        [0.03921569, 0.04444445, 0.06013072, ..., 0.09542484,\n",
            "         0.10849673, 0.16209151],\n",
            "        [0.0379085 , 0.0379085 , 0.05490196, ..., 0.09411765,\n",
            "         0.14248367, 0.08366013]]], dtype=float32), 'target': array([2, 3, 1, ..., 4, 2, 4]), 'target_names': array(['Colin Powell', 'Donald Rumsfeld', 'George W Bush',\n",
            "       'Gerhard Schroeder', 'Tony Blair'], dtype='<U17'), 'DESCR': \".. _labeled_faces_in_the_wild_dataset:\\n\\nThe Labeled Faces in the Wild face recognition dataset\\n------------------------------------------------------\\n\\nThis dataset is a collection of JPEG pictures of famous people collected\\nover the internet, all details are available on the official website:\\n\\n    http://vis-www.cs.umass.edu/lfw/\\n\\nEach picture is centered on a single face. The typical task is called\\nFace Verification: given a pair of two pictures, a binary classifier\\nmust predict whether the two images are from the same person.\\n\\nAn alternative task, Face Recognition or Face Identification is:\\ngiven the picture of the face of an unknown person, identify the name\\nof the person by referring to a gallery of previously seen pictures of\\nidentified persons.\\n\\nBoth Face Verification and Face Recognition are tasks that are typically\\nperformed on the output of a model trained to perform Face Detection. The\\nmost popular model for Face Detection is called Viola-Jones and is\\nimplemented in the OpenCV library. The LFW faces were extracted by this\\nface detector from various online websites.\\n\\n**Data Set Characteristics:**\\n\\n    =================   =======================\\n    Classes                                5749\\n    Samples total                         13233\\n    Dimensionality                         5828\\n    Features            real, between 0 and 255\\n    =================   =======================\\n\\nUsage\\n~~~~~\\n\\n``scikit-learn`` provides two loaders that will automatically download,\\ncache, parse the metadata files, decode the jpeg and convert the\\ninteresting slices into memmapped numpy arrays. This dataset size is more\\nthan 200 MB. The first load typically takes more than a couple of minutes\\nto fully decode the relevant part of the JPEG files into numpy arrays. If\\nthe dataset has  been loaded once, the following times the loading times\\nless than 200ms by using a memmapped version memoized on the disk in the\\n``~/scikit_learn_data/lfw_home/`` folder using ``joblib``.\\n\\nThe first loader is used for the Face Identification task: a multi-class\\nclassification task (hence supervised learning)::\\n\\n  >>> from sklearn.datasets import fetch_lfw_people\\n  >>> lfw_people = fetch_lfw_people(min_faces_per_person=70, resize=0.4)\\n\\n  >>> for name in lfw_people.target_names:\\n  ...     print(name)\\n  ...\\n  Ariel Sharon\\n  Colin Powell\\n  Donald Rumsfeld\\n  George W Bush\\n  Gerhard Schroeder\\n  Hugo Chavez\\n  Tony Blair\\n\\nThe default slice is a rectangular shape around the face, removing\\nmost of the background::\\n\\n  >>> lfw_people.data.dtype\\n  dtype('float32')\\n\\n  >>> lfw_people.data.shape\\n  (1288, 1850)\\n\\n  >>> lfw_people.images.shape\\n  (1288, 50, 37)\\n\\nEach of the ``1140`` faces is assigned to a single person id in the ``target``\\narray::\\n\\n  >>> lfw_people.target.shape\\n  (1288,)\\n\\n  >>> list(lfw_people.target[:10])\\n  [5, 6, 3, 1, 0, 1, 3, 4, 3, 0]\\n\\nThe second loader is typically used for the face verification task: each sample\\nis a pair of two picture belonging or not to the same person::\\n\\n  >>> from sklearn.datasets import fetch_lfw_pairs\\n  >>> lfw_pairs_train = fetch_lfw_pairs(subset='train')\\n\\n  >>> list(lfw_pairs_train.target_names)\\n  ['Different persons', 'Same person']\\n\\n  >>> lfw_pairs_train.pairs.shape\\n  (2200, 2, 62, 47)\\n\\n  >>> lfw_pairs_train.data.shape\\n  (2200, 5828)\\n\\n  >>> lfw_pairs_train.target.shape\\n  (2200,)\\n\\nBoth for the :func:`sklearn.datasets.fetch_lfw_people` and\\n:func:`sklearn.datasets.fetch_lfw_pairs` function it is\\npossible to get an additional dimension with the RGB color channels by\\npassing ``color=True``, in that case the shape will be\\n``(2200, 2, 62, 47, 3)``.\\n\\nThe :func:`sklearn.datasets.fetch_lfw_pairs` datasets is subdivided into\\n3 subsets: the development ``train`` set, the development ``test`` set and\\nan evaluation ``10_folds`` set meant to compute performance metrics using a\\n10-folds cross validation scheme.\\n\\n.. topic:: References:\\n\\n * `Labeled Faces in the Wild: A Database for Studying Face Recognition\\n   in Unconstrained Environments.\\n   <http://vis-www.cs.umass.edu/lfw/lfw.pdf>`_\\n   Gary B. Huang, Manu Ramesh, Tamara Berg, and Erik Learned-Miller.\\n   University of Massachusetts, Amherst, Technical Report 07-49, October, 2007.\\n\\n\\nExamples\\n~~~~~~~~\\n\\n:ref:`sphx_glr_auto_examples_applications_plot_face_recognition.py`\\n\"}\n",
            "dict_keys(['data', 'images', 'target', 'target_names', 'DESCR'])\n"
          ]
        }
      ],
      "source": [
        "print(face_images)\n",
        "\n",
        "print(face_images.keys())"
      ]
    },
    {
      "cell_type": "markdown",
      "metadata": {
        "id": "SNZeR6iQkhID"
      },
      "source": [
        "Es un diccionario con las imágenes de 62x47 en la clave `images`, mientras que la imagen reducida a una sola dimensión (array) en la clave `data`, una etiqueta numérica para identificar la persona de la que se trata `target`, y una representación humana con el nombre de la persona `target_name`."
      ]
    },
    {
      "cell_type": "code",
      "execution_count": null,
      "metadata": {
        "colab": {
          "base_uri": "https://localhost:8080/"
        },
        "id": "pe3ed81QjYFH",
        "outputId": "b38f37e3-65fd-41d0-bcdc-69a2762a13d6"
      },
      "outputs": [
        {
          "name": "stdout",
          "output_type": "stream",
          "text": [
            "Forma de data: (1140, 2914)\n",
            "Forma de target: (1140,)\n",
            "Forma de las imágenes: (1140, 62, 47)\n",
            "Nombres de los sujetos disponibles ['Colin Powell' 'Donald Rumsfeld' 'George W Bush' 'Gerhard Schroeder'\n",
            " 'Tony Blair']\n"
          ]
        }
      ],
      "source": [
        "# Tomamos data\n",
        "data = face_images['data']\n",
        "\n",
        "# Tomamos target\n",
        "targets = face_images['target']\n",
        "\n",
        "# Tomamos las imágenes\n",
        "images = face_images['images']\n",
        "\n",
        "# Tomamos los sujetos\n",
        "subjects = face_images['target_names']\n",
        "\n",
        "print('Forma de data:', data.shape)\n",
        "print('Forma de target:', targets.shape)\n",
        "print('Forma de las imágenes:', images.shape)\n",
        "print('Nombres de los sujetos disponibles', subjects)"
      ]
    },
    {
      "cell_type": "markdown",
      "metadata": {
        "id": "SBLIhTavlffL"
      },
      "source": [
        "Tenemos 1140 imágenes pertenecientes a 5 sujetos relacionados con la política internacional allá por el 2005."
      ]
    },
    {
      "cell_type": "code",
      "execution_count": null,
      "metadata": {
        "colab": {
          "base_uri": "https://localhost:8080/"
        },
        "id": "ApONwWTamq-C",
        "outputId": "8f2c0bd0-6963-4b91-d6cd-a48c338fdf93"
      },
      "outputs": [
        {
          "name": "stdout",
          "output_type": "stream",
          "text": [
            "Tenemos 236 imágenes de Colin Powell\n",
            "Tenemos 121 imágenes de Donald Rumsfeld\n",
            "Tenemos 530 imágenes de George W Bush\n",
            "Tenemos 109 imágenes de Gerhard Schroeder\n",
            "Tenemos 144 imágenes de Tony Blair\n"
          ]
        }
      ],
      "source": [
        "# Contamos las imágenes por sujeto\n",
        "for i in range(5):\n",
        "  print(f'Tenemos {(targets == i).sum()} imágenes de {subjects[i]}')"
      ]
    },
    {
      "cell_type": "code",
      "execution_count": null,
      "metadata": {
        "colab": {
          "base_uri": "https://localhost:8080/",
          "height": 426
        },
        "id": "GF8GGDZwnNjt",
        "outputId": "bb635dfa-a277-40d3-840d-d8fd9daf197e"
      },
      "outputs": [
        {
          "data": {
            "image/png": "[encoded data removed]",
            "text/plain": [
              "<Figure size 640x480 with 12 Axes>"
            ]
          },
          "metadata": {},
          "output_type": "display_data"
        }
      ],
      "source": [
        "import matplotlib.pyplot as plt\n",
        "\n",
        "fig, ax = plt.subplots(3, 4)\n",
        "for i, axi in enumerate(ax.flat):\n",
        "    axi.imshow(images[i], cmap='bone')\n",
        "    axi.set(xticks=[], yticks=[],\n",
        "            xlabel=face_images.target_names[face_images.target[i]])\n",
        "\n",
        "plt.show()"
      ]
    },
    {
      "cell_type": "markdown",
      "metadata": {
        "id": "rCQMI0D2jToS"
      },
      "source": [
        "### Selección de entradas y salidas\n",
        "\n",
        "Si nos gustaría identificar quién es cada quién, el modelo debería reconocer un rostro y decir su nombre, por lo que la salida debe ser `targets` donde tenemos la salida esperada para cada imagen.\n",
        "\n",
        "Para las entradas tenemos `data` y `images`. Ambos con la misma información, pero con distinto formato. Mientras data es un solo array con un array de datos, images es un array de arrays de array de datos, una dimensión más que puede resultar incómoda para computar por el modelo que planeamos usar hoy, así que por esto se decide usar `data`"
      ]
    },
    {
      "cell_type": "code",
      "execution_count": null,
      "metadata": {
        "id": "K2iYzxZIqxi-"
      },
      "outputs": [],
      "source": [
        "# Definimos las entras y salidas\n",
        "\n",
        "X = data\n",
        "y = targets"
      ]
    },
    {
      "cell_type": "markdown",
      "metadata": {
        "id": "FuFuNFdTrAxX"
      },
      "source": [
        "### Preprocesamiento de los datos\n",
        "\n",
        "`fetch_lfw_people` ya se encargó de lo más importante que es garantizar el balanceo de datos, que los tipos de datos sean consistentes, etc. Por lo que no hace falta preprocesar."
      ]
    },
    {
      "cell_type": "markdown",
      "metadata": {
        "id": "DwC9WlbVrQsn"
      },
      "source": [
        "### Creación de conjuntos de pruebas y entrenamiento"
      ]
    },
    {
      "cell_type": "code",
      "execution_count": null,
      "metadata": {
        "id": "GYbyZ5pKrTz0"
      },
      "outputs": [],
      "source": [
        "from sklearn.model_selection import train_test_split\n",
        "\n",
        "# Hacemos el split\n",
        "X_train, X_test, Y_train, Y_test = train_test_split(X, y, random_state=42)"
      ]
    },
    {
      "cell_type": "markdown",
      "metadata": {
        "id": "ONnWTW7prmUO"
      },
      "source": [
        "¡Listo! Ya podemos empezar a crear nuestro modelo"
      ]
    },
    {
      "cell_type": "markdown",
      "metadata": {
        "id": "plJyn7gjr80z"
      },
      "source": [
        "## Implementación y entrenamiento de modelos"
      ]
    },
    {
      "cell_type": "markdown",
      "metadata": {
        "id": "mHah4Uv9sDL7"
      },
      "source": [
        "## Selección de modelo"
      ]
    },
    {
      "cell_type": "markdown",
      "metadata": {
        "id": "XVCAFz9XsEu_"
      },
      "source": [
        "## Implementación y entrenamiento"
      ]
    },
    {
      "cell_type": "code",
      "execution_count": null,
      "metadata": {
        "id": "_vA59rO1sHdO"
      },
      "outputs": [],
      "source": [
        "from sklearn.svm import SVC\n",
        "\n",
        "# creamos el clasificador SVM\n",
        "clf = SVC(class_weight='balanced', random_state=42)"
      ]
    },
    {
      "cell_type": "code",
      "execution_count": null,
      "metadata": {
        "colab": {
          "base_uri": "https://localhost:8080/",
          "height": 118
        },
        "id": "NlpFqyfisCig",
        "outputId": "278ced88-391d-4eb3-8b6a-f0a104c5b29a"
      },
      "outputs": [
        {
          "data": {
            "text/html": [
              "<style>#sk-container-id-1 {color: black;background-color: white;}#sk-container-id-1 pre{padding: 0;}#sk-container-id-1 div.sk-toggleable {background-color: white;}#sk-container-id-1 label.sk-toggleable__label {cursor: pointer;display: block;width: 100%;margin-bottom: 0;padding: 0.3em;box-sizing: border-box;text-align: center;}#sk-container-id-1 label.sk-toggleable__label-arrow:before {content: \"▸\";float: left;margin-right: 0.25em;color: #696969;}#sk-container-id-1 label.sk-toggleable__label-arrow:hover:before {color: black;}#sk-container-id-1 div.sk-estimator:hover label.sk-toggleable__label-arrow:before {color: black;}#sk-container-id-1 div.sk-toggleable__content {max-height: 0;max-width: 0;overflow: hidden;text-align: left;background-color: #f0f8ff;}#sk-container-id-1 div.sk-toggleable__content pre {margin: 0.2em;color: black;border-radius: 0.25em;background-color: #f0f8ff;}#sk-container-id-1 input.sk-toggleable__control:checked~div.sk-toggleable__content {max-height: 200px;max-width: 100%;overflow: auto;}#sk-container-id-1 input.sk-toggleable__control:checked~label.sk-toggleable__label-arrow:before {content: \"▾\";}#sk-container-id-1 div.sk-estimator input.sk-toggleable__control:checked~label.sk-toggleable__label {background-color: #d4ebff;}#sk-container-id-1 div.sk-label input.sk-toggleable__control:checked~label.sk-toggleable__label {background-color: #d4ebff;}#sk-container-id-1 input.sk-hidden--visually {border: 0;clip: rect(1px 1px 1px 1px);clip: rect(1px, 1px, 1px, 1px);height: 1px;margin: -1px;overflow: hidden;padding: 0;position: absolute;width: 1px;}#sk-container-id-1 div.sk-estimator {font-family: monospace;background-color: #f0f8ff;border: 1px dotted black;border-radius: 0.25em;box-sizing: border-box;margin-bottom: 0.5em;}#sk-container-id-1 div.sk-estimator:hover {background-color: #d4ebff;}#sk-container-id-1 div.sk-parallel-item::after {content: \"\";width: 100%;border-bottom: 1px solid gray;flex-grow: 1;}#sk-container-id-1 div.sk-label:hover label.sk-toggleable__label {background-color: #d4ebff;}#sk-container-id-1 div.sk-serial::before {content: \"\";position: absolute;border-left: 1px solid gray;box-sizing: border-box;top: 0;bottom: 0;left: 50%;z-index: 0;}#sk-container-id-1 div.sk-serial {display: flex;flex-direction: column;align-items: center;background-color: white;padding-right: 0.2em;padding-left: 0.2em;position: relative;}#sk-container-id-1 div.sk-item {position: relative;z-index: 1;}#sk-container-id-1 div.sk-parallel {display: flex;align-items: stretch;justify-content: center;background-color: white;position: relative;}#sk-container-id-1 div.sk-item::before, #sk-container-id-1 div.sk-parallel-item::before {content: \"\";position: absolute;border-left: 1px solid gray;box-sizing: border-box;top: 0;bottom: 0;left: 50%;z-index: -1;}#sk-container-id-1 div.sk-parallel-item {display: flex;flex-direction: column;z-index: 1;position: relative;background-color: white;}#sk-container-id-1 div.sk-parallel-item:first-child::after {align-self: flex-end;width: 50%;}#sk-container-id-1 div.sk-parallel-item:last-child::after {align-self: flex-start;width: 50%;}#sk-container-id-1 div.sk-parallel-item:only-child::after {width: 0;}#sk-container-id-1 div.sk-dashed-wrapped {border: 1px dashed gray;margin: 0 0.4em 0.5em 0.4em;box-sizing: border-box;padding-bottom: 0.4em;background-color: white;}#sk-container-id-1 div.sk-label label {font-family: monospace;font-weight: bold;display: inline-block;line-height: 1.2em;}#sk-container-id-1 div.sk-label-container {text-align: center;}#sk-container-id-1 div.sk-container {/* jupyter's `normalize.less` sets `[hidden] { display: none; }` but bootstrap.min.css set `[hidden] { display: none !important; }` so we also need the `!important` here to be able to override the default hidden behavior on the sphinx rendered scikit-learn.org. See: https://github.com/scikit-learn/scikit-learn/issues/21755 */display: inline-block !important;position: relative;}#sk-container-id-1 div.sk-text-repr-fallback {display: none;}</style><div id=\"sk-container-id-1\" class=\"sk-top-container\"><div class=\"sk-text-repr-fallback\"><pre>GridSearchCV(cv=5, estimator=SVC(class_weight=&#x27;balanced&#x27;, random_state=42),\n",
              "             n_jobs=-1,\n",
              "             param_grid={&#x27;C&#x27;: [0.1, 1, 10], &#x27;gamma&#x27;: [1e-07, 1e-08, 1e-06],\n",
              "                         &#x27;kernel&#x27;: [&#x27;rbf&#x27;, &#x27;linear&#x27;]})</pre><b>In a Jupyter environment, please rerun this cell to show the HTML representation or trust the notebook. <br />On GitHub, the HTML representation is unable to render, please try loading this page with nbviewer.org.</b></div><div class=\"sk-container\" hidden><div class=\"sk-item sk-dashed-wrapped\"><div class=\"sk-label-container\"><div class=\"sk-label sk-toggleable\"><input class=\"sk-toggleable__control sk-hidden--visually\" id=\"sk-estimator-id-1\" type=\"checkbox\" ><label for=\"sk-estimator-id-1\" class=\"sk-toggleable__label sk-toggleable__label-arrow\">GridSearchCV</label><div class=\"sk-toggleable__content\"><pre>GridSearchCV(cv=5, estimator=SVC(class_weight=&#x27;balanced&#x27;, random_state=42),\n",
              "             n_jobs=-1,\n",
              "             param_grid={&#x27;C&#x27;: [0.1, 1, 10], &#x27;gamma&#x27;: [1e-07, 1e-08, 1e-06],\n",
              "                         &#x27;kernel&#x27;: [&#x27;rbf&#x27;, &#x27;linear&#x27;]})</pre></div></div></div><div class=\"sk-parallel\"><div class=\"sk-parallel-item\"><div class=\"sk-item\"><div class=\"sk-label-container\"><div class=\"sk-label sk-toggleable\"><input class=\"sk-toggleable__control sk-hidden--visually\" id=\"sk-estimator-id-2\" type=\"checkbox\" ><label for=\"sk-estimator-id-2\" class=\"sk-toggleable__label sk-toggleable__label-arrow\">estimator: SVC</label><div class=\"sk-toggleable__content\"><pre>SVC(class_weight=&#x27;balanced&#x27;, random_state=42)</pre></div></div></div><div class=\"sk-serial\"><div class=\"sk-item\"><div class=\"sk-estimator sk-toggleable\"><input class=\"sk-toggleable__control sk-hidden--visually\" id=\"sk-estimator-id-3\" type=\"checkbox\" ><label for=\"sk-estimator-id-3\" class=\"sk-toggleable__label sk-toggleable__label-arrow\">SVC</label><div class=\"sk-toggleable__content\"><pre>SVC(class_weight=&#x27;balanced&#x27;, random_state=42)</pre></div></div></div></div></div></div></div></div></div></div>"
            ],
            "text/plain": [
              "GridSearchCV(cv=5, estimator=SVC(class_weight='balanced', random_state=42),\n",
              "             n_jobs=-1,\n",
              "             param_grid={'C': [0.1, 1, 10], 'gamma': [1e-07, 1e-08, 1e-06],\n",
              "                         'kernel': ['rbf', 'linear']})"
            ]
          },
          "execution_count": 9,
          "metadata": {},
          "output_type": "execute_result"
        }
      ],
      "source": [
        "from sklearn.model_selection import GridSearchCV\n",
        "\n",
        "# Seleccionamos los posibles hiperparámetros a probar para entrenar nuestro modelo\n",
        "parameters = {'C': [0.1, 1, 10],\n",
        "              'gamma': [1e-07, 1e-08, 1e-06],\n",
        "              'kernel' : ['rbf', 'linear'] }\n",
        "\n",
        "# Creamos una búsqueda en permutación de hiperparámetros\n",
        "grid_search = GridSearchCV(clf, parameters, n_jobs=-1, cv=5)\n",
        "\n",
        "# entrenamos con los distintas permutaciones de hiperparámetros\n",
        "grid_search.fit(X_train, Y_train)"
      ]
    },
    {
      "cell_type": "markdown",
      "metadata": {
        "id": "TLo5Qrl1t2To"
      },
      "source": [
        "## Análisis de resultados"
      ]
    },
    {
      "cell_type": "code",
      "execution_count": null,
      "metadata": {
        "colab": {
          "base_uri": "https://localhost:8080/"
        },
        "id": "DCJdr7dEr8a9",
        "outputId": "c53cd75d-f895-4c9a-e4d5-11cb9eac170d"
      },
      "outputs": [
        {
          "name": "stdout",
          "output_type": "stream",
          "text": [
            "La exactitud del mejor es: 87.7%\n",
            "Los mejores parámetros son: {'C': 1, 'gamma': 1e-07, 'kernel': 'linear'}\n"
          ]
        }
      ],
      "source": [
        "# Obtenemos el modelo que obtuvo el mejor resultado\n",
        "best_clf = grid_search.best_estimator_\n",
        "\n",
        "print(f'La exactitud del mejor es: {best_clf.score(X_test, Y_test)*100:.1f}%')\n",
        "print(f'Los mejores parámetros son: {grid_search.best_params_}')"
      ]
    },
    {
      "cell_type": "code",
      "execution_count": null,
      "metadata": {
        "colab": {
          "base_uri": "https://localhost:8080/"
        },
        "id": "XSPE8f7Dt7Hl",
        "outputId": "de3335fa-0154-4aae-f5c4-fa4be1c90f03"
      },
      "outputs": [
        {
          "name": "stdout",
          "output_type": "stream",
          "text": [
            "                   precision    recall  f1-score   support\n",
            "\n",
            "     Colin Powell       0.89      0.88      0.88        64\n",
            "  Donald Rumsfeld       0.89      0.78      0.83        32\n",
            "    George W Bush       0.87      0.91      0.89       127\n",
            "Gerhard Schroeder       0.89      0.86      0.88        29\n",
            "       Tony Blair       0.88      0.85      0.86        33\n",
            "\n",
            "         accuracy                           0.88       285\n",
            "        macro avg       0.88      0.86      0.87       285\n",
            "     weighted avg       0.88      0.88      0.88       285\n",
            "\n"
          ]
        }
      ],
      "source": [
        "from sklearn.metrics import classification_report\n",
        "\n",
        "pred = best_clf.predict(X_test)\n",
        "\n",
        "print(classification_report(Y_test, pred, target_names=subjects))"
      ]
    },
    {
      "cell_type": "code",
      "execution_count": null,
      "metadata": {
        "id": "TRmQfArvrl0d"
      },
      "outputs": [],
      "source": [
        "from sklearn.decomposition import PCA\n",
        "from sklearn.svm import SVC\n",
        "\n",
        "pca = PCA(n_components=100, whiten=True, random_state=42)\n",
        "svc = SVC(class_weight='balanced', kernel='rbf', random_state=42)"
      ]
    },
    {
      "cell_type": "code",
      "execution_count": null,
      "metadata": {
        "colab": {
          "base_uri": "https://localhost:8080/",
          "height": 152
        },
        "id": "PXTnomHfvfiX",
        "outputId": "abd4e8ff-7dab-4457-e7b0-fa8acc9e178a"
      },
      "outputs": [
        {
          "data": {
            "text/html": [
              "<style>#sk-container-id-2 {color: black;background-color: white;}#sk-container-id-2 pre{padding: 0;}#sk-container-id-2 div.sk-toggleable {background-color: white;}#sk-container-id-2 label.sk-toggleable__label {cursor: pointer;display: block;width: 100%;margin-bottom: 0;padding: 0.3em;box-sizing: border-box;text-align: center;}#sk-container-id-2 label.sk-toggleable__label-arrow:before {content: \"▸\";float: left;margin-right: 0.25em;color: #696969;}#sk-container-id-2 label.sk-toggleable__label-arrow:hover:before {color: black;}#sk-container-id-2 div.sk-estimator:hover label.sk-toggleable__label-arrow:before {color: black;}#sk-container-id-2 div.sk-toggleable__content {max-height: 0;max-width: 0;overflow: hidden;text-align: left;background-color: #f0f8ff;}#sk-container-id-2 div.sk-toggleable__content pre {margin: 0.2em;color: black;border-radius: 0.25em;background-color: #f0f8ff;}#sk-container-id-2 input.sk-toggleable__control:checked~div.sk-toggleable__content {max-height: 200px;max-width: 100%;overflow: auto;}#sk-container-id-2 input.sk-toggleable__control:checked~label.sk-toggleable__label-arrow:before {content: \"▾\";}#sk-container-id-2 div.sk-estimator input.sk-toggleable__control:checked~label.sk-toggleable__label {background-color: #d4ebff;}#sk-container-id-2 div.sk-label input.sk-toggleable__control:checked~label.sk-toggleable__label {background-color: #d4ebff;}#sk-container-id-2 input.sk-hidden--visually {border: 0;clip: rect(1px 1px 1px 1px);clip: rect(1px, 1px, 1px, 1px);height: 1px;margin: -1px;overflow: hidden;padding: 0;position: absolute;width: 1px;}#sk-container-id-2 div.sk-estimator {font-family: monospace;background-color: #f0f8ff;border: 1px dotted black;border-radius: 0.25em;box-sizing: border-box;margin-bottom: 0.5em;}#sk-container-id-2 div.sk-estimator:hover {background-color: #d4ebff;}#sk-container-id-2 div.sk-parallel-item::after {content: \"\";width: 100%;border-bottom: 1px solid gray;flex-grow: 1;}#sk-container-id-2 div.sk-label:hover label.sk-toggleable__label {background-color: #d4ebff;}#sk-container-id-2 div.sk-serial::before {content: \"\";position: absolute;border-left: 1px solid gray;box-sizing: border-box;top: 0;bottom: 0;left: 50%;z-index: 0;}#sk-container-id-2 div.sk-serial {display: flex;flex-direction: column;align-items: center;background-color: white;padding-right: 0.2em;padding-left: 0.2em;position: relative;}#sk-container-id-2 div.sk-item {position: relative;z-index: 1;}#sk-container-id-2 div.sk-parallel {display: flex;align-items: stretch;justify-content: center;background-color: white;position: relative;}#sk-container-id-2 div.sk-item::before, #sk-container-id-2 div.sk-parallel-item::before {content: \"\";position: absolute;border-left: 1px solid gray;box-sizing: border-box;top: 0;bottom: 0;left: 50%;z-index: -1;}#sk-container-id-2 div.sk-parallel-item {display: flex;flex-direction: column;z-index: 1;position: relative;background-color: white;}#sk-container-id-2 div.sk-parallel-item:first-child::after {align-self: flex-end;width: 50%;}#sk-container-id-2 div.sk-parallel-item:last-child::after {align-self: flex-start;width: 50%;}#sk-container-id-2 div.sk-parallel-item:only-child::after {width: 0;}#sk-container-id-2 div.sk-dashed-wrapped {border: 1px dashed gray;margin: 0 0.4em 0.5em 0.4em;box-sizing: border-box;padding-bottom: 0.4em;background-color: white;}#sk-container-id-2 div.sk-label label {font-family: monospace;font-weight: bold;display: inline-block;line-height: 1.2em;}#sk-container-id-2 div.sk-label-container {text-align: center;}#sk-container-id-2 div.sk-container {/* jupyter's `normalize.less` sets `[hidden] { display: none; }` but bootstrap.min.css set `[hidden] { display: none !important; }` so we also need the `!important` here to be able to override the default hidden behavior on the sphinx rendered scikit-learn.org. See: https://github.com/scikit-learn/scikit-learn/issues/21755 */display: inline-block !important;position: relative;}#sk-container-id-2 div.sk-text-repr-fallback {display: none;}</style><div id=\"sk-container-id-2\" class=\"sk-top-container\"><div class=\"sk-text-repr-fallback\"><pre>GridSearchCV(estimator=Pipeline(steps=[(&#x27;pca&#x27;,\n",
              "                                        PCA(n_components=100, random_state=42,\n",
              "                                            whiten=True)),\n",
              "                                       (&#x27;svc&#x27;,\n",
              "                                        SVC(class_weight=&#x27;balanced&#x27;,\n",
              "                                            random_state=42))]),\n",
              "             param_grid={&#x27;svc__C&#x27;: [1, 3, 10],\n",
              "                         &#x27;svc__gamma&#x27;: [0.0005, 0.001, 0.005]})</pre><b>In a Jupyter environment, please rerun this cell to show the HTML representation or trust the notebook. <br />On GitHub, the HTML representation is unable to render, please try loading this page with nbviewer.org.</b></div><div class=\"sk-container\" hidden><div class=\"sk-item sk-dashed-wrapped\"><div class=\"sk-label-container\"><div class=\"sk-label sk-toggleable\"><input class=\"sk-toggleable__control sk-hidden--visually\" id=\"sk-estimator-id-4\" type=\"checkbox\" ><label for=\"sk-estimator-id-4\" class=\"sk-toggleable__label sk-toggleable__label-arrow\">GridSearchCV</label><div class=\"sk-toggleable__content\"><pre>GridSearchCV(estimator=Pipeline(steps=[(&#x27;pca&#x27;,\n",
              "                                        PCA(n_components=100, random_state=42,\n",
              "                                            whiten=True)),\n",
              "                                       (&#x27;svc&#x27;,\n",
              "                                        SVC(class_weight=&#x27;balanced&#x27;,\n",
              "                                            random_state=42))]),\n",
              "             param_grid={&#x27;svc__C&#x27;: [1, 3, 10],\n",
              "                         &#x27;svc__gamma&#x27;: [0.0005, 0.001, 0.005]})</pre></div></div></div><div class=\"sk-parallel\"><div class=\"sk-parallel-item\"><div class=\"sk-item\"><div class=\"sk-label-container\"><div class=\"sk-label sk-toggleable\"><input class=\"sk-toggleable__control sk-hidden--visually\" id=\"sk-estimator-id-5\" type=\"checkbox\" ><label for=\"sk-estimator-id-5\" class=\"sk-toggleable__label sk-toggleable__label-arrow\">estimator: Pipeline</label><div class=\"sk-toggleable__content\"><pre>Pipeline(steps=[(&#x27;pca&#x27;, PCA(n_components=100, random_state=42, whiten=True)),\n",
              "                (&#x27;svc&#x27;, SVC(class_weight=&#x27;balanced&#x27;, random_state=42))])</pre></div></div></div><div class=\"sk-serial\"><div class=\"sk-item\"><div class=\"sk-serial\"><div class=\"sk-item\"><div class=\"sk-estimator sk-toggleable\"><input class=\"sk-toggleable__control sk-hidden--visually\" id=\"sk-estimator-id-6\" type=\"checkbox\" ><label for=\"sk-estimator-id-6\" class=\"sk-toggleable__label sk-toggleable__label-arrow\">PCA</label><div class=\"sk-toggleable__content\"><pre>PCA(n_components=100, random_state=42, whiten=True)</pre></div></div></div><div class=\"sk-item\"><div class=\"sk-estimator sk-toggleable\"><input class=\"sk-toggleable__control sk-hidden--visually\" id=\"sk-estimator-id-7\" type=\"checkbox\" ><label for=\"sk-estimator-id-7\" class=\"sk-toggleable__label sk-toggleable__label-arrow\">SVC</label><div class=\"sk-toggleable__content\"><pre>SVC(class_weight=&#x27;balanced&#x27;, random_state=42)</pre></div></div></div></div></div></div></div></div></div></div></div></div>"
            ],
            "text/plain": [
              "GridSearchCV(estimator=Pipeline(steps=[('pca',\n",
              "                                        PCA(n_components=100, random_state=42,\n",
              "                                            whiten=True)),\n",
              "                                       ('svc',\n",
              "                                        SVC(class_weight='balanced',\n",
              "                                            random_state=42))]),\n",
              "             param_grid={'svc__C': [1, 3, 10],\n",
              "                         'svc__gamma': [0.0005, 0.001, 0.005]})"
            ]
          },
          "execution_count": 13,
          "metadata": {},
          "output_type": "execute_result"
        }
      ],
      "source": [
        "from sklearn.pipeline import Pipeline\n",
        "from sklearn.model_selection import GridSearchCV\n",
        "\n",
        "model = Pipeline([('pca', pca),\n",
        "                  ('svc', svc)])\n",
        "\n",
        "parameters_pipeline = {\n",
        "    'svc__C': [1, 3, 10],\n",
        "                       'svc__gamma': [0.0005, 0.001, 0.005]}\n",
        "grid_search = GridSearchCV(model, parameters_pipeline)\n",
        "grid_search.fit(X_train, Y_train)"
      ]
    },
    {
      "cell_type": "code",
      "execution_count": null,
      "metadata": {
        "colab": {
          "base_uri": "https://localhost:8080/"
        },
        "id": "S6k6KkL2v9n2",
        "outputId": "34eba808-8810-4d77-cade-22af814e3c68"
      },
      "outputs": [
        {
          "name": "stdout",
          "output_type": "stream",
          "text": [
            "La exactitud del mejor es: 89.5%\n"
          ]
        }
      ],
      "source": [
        "# Obtenemos el modelo que obtuvo el mejor resultado\n",
        "best_clf = grid_search.best_estimator_\n",
        "\n",
        "print(f'La exactitud del mejor es: {best_clf.score(X_test, Y_test)*100:.1f}%')"
      ]
    },
    {
      "cell_type": "code",
      "execution_count": null,
      "metadata": {
        "colab": {
          "base_uri": "https://localhost:8080/"
        },
        "id": "B3W74Acixb-C",
        "outputId": "2de845ed-224f-46dc-cbd0-e9b3aa1c873e"
      },
      "outputs": [
        {
          "name": "stdout",
          "output_type": "stream",
          "text": [
            "                   precision    recall  f1-score   support\n",
            "\n",
            "     Colin Powell       0.91      0.91      0.91        64\n",
            "  Donald Rumsfeld       0.79      0.84      0.82        32\n",
            "    George W Bush       0.93      0.94      0.93       127\n",
            "Gerhard Schroeder       0.86      0.83      0.84        29\n",
            "       Tony Blair       0.87      0.82      0.84        33\n",
            "\n",
            "         accuracy                           0.89       285\n",
            "        macro avg       0.87      0.87      0.87       285\n",
            "     weighted avg       0.90      0.89      0.89       285\n",
            "\n"
          ]
        }
      ],
      "source": [
        "from sklearn.metrics import classification_report\n",
        "pred = best_clf.predict(X_test)\n",
        "\n",
        "print(classification_report(Y_test, pred, target_names=subjects))"
      ]
    },
    {
      "cell_type": "markdown",
      "metadata": {
        "id": "2Ez717INzO_3"
      },
      "source": [
        "# Despliegue"
      ]
    },
    {
      "cell_type": "code",
      "execution_count": null,
      "metadata": {
        "id": "Qu1p8SaAz_Qb"
      },
      "outputs": [],
      "source": [
        "!rm -rf test_images"
      ]
    },
    {
      "cell_type": "code",
      "execution_count": null,
      "metadata": {
        "id": "HeuiNumpyzMv"
      },
      "outputs": [],
      "source": [
        "import matplotlib.pyplot as plt\n",
        "# Create a directory to store the images\n",
        "!mkdir test_images\n",
        "\n",
        "# Save each image in the directory\n",
        "for i, image in enumerate(X_test):\n",
        "  image = image.reshape(62, 47)\n",
        "  if pred[i] == y[i]:\n",
        "    plt.imsave(f'test_images/image_{subjects[pred[i]]}_{i}.png', image, cmap='gray')"
      ]
    },
    {
      "cell_type": "code",
      "execution_count": null,
      "metadata": {
        "id": "nROaE1ImzuMF"
      },
      "outputs": [],
      "source": [
        "# Descarga imagen de internet con python\n",
        "\n",
        "import requests\n",
        "from io import BytesIO\n",
        "from PIL import Image\n",
        "import matplotlib.pyplot as plt\n",
        "from urllib.request import urlopen\n",
        "import numpy as np\n",
        "\n",
        "\n",
        "def download_image(url: str):\n",
        "  # Send a GET request to the URL\n",
        "  response = requests.get(url)\n",
        "\n",
        "  # Check if the request was successful\n",
        "  if response.status_code == 200:\n",
        "      # Read the image data from the response\n",
        "      image_data = response.content\n",
        "\n",
        "      # Create an image object from the data\n",
        "      image = Image.open(BytesIO(image_data)).convert('L')\n",
        "\n",
        "      image = image.resize((62, 47))\n",
        "\n",
        "      data = np.array(image.getdata())/255\n",
        "\n",
        "      # Return the data of the image\n",
        "      return data\n",
        "  else:\n",
        "      print(\"Failed to download the image.\", response.status_code)"
      ]
    },
    {
      "cell_type": "code",
      "execution_count": null,
      "metadata": {
        "id": "6F6Q_cwSy3Co"
      },
      "outputs": [],
      "source": [
        "position_mapper = {\n",
        "    'Colin Powell': 'Secretario de Estado',\n",
        "    'Donald Rumsfeld': 'Scretario de Defensa',\n",
        "    'George W Bush': 'Presidente',\n",
        "    'Gerhard Schroeder': 'Canciller Alemán',\n",
        "    'Tony Blair': 'Primer ministro Británico'\n",
        "}\n",
        "\n",
        "def identify(image_data):\n",
        "  target = best_clf.predict([image_data])[0]\n",
        "  subject = subjects[target]\n",
        "\n",
        "  return {\n",
        "      'name': subject,\n",
        "      'position': position_mapper[subject]\n",
        "  }\n"
      ]
    },
    {
      "cell_type": "code",
      "execution_count": null,
      "metadata": {
        "colab": {
          "base_uri": "https://localhost:8080/"
        },
        "id": "fuAtehr9yg5J",
        "outputId": "913d8d42-4f70-49cf-b763-5c5f05ea2bbb"
      },
      "outputs": [
        {
          "name": "stdout",
          "output_type": "stream",
          "text": [
            "Collecting Flask==3.0.0\n",
            "  Downloading flask-3.0.0-py3-none-any.whl (99 kB)\n",
            "\u001b[2K     \u001b[90m━━━━━━━━━━━━━━━━━━━━━━━━━━━━━━━━━━━━━━━━\u001b[0m \u001b[32m99.7/99.7 kB\u001b[0m \u001b[31m1.4 MB/s\u001b[0m eta \u001b[36m0:00:00\u001b[0m\n",
            "\u001b[?25hCollecting pyngrok==7.1.2\n",
            "  Downloading pyngrok-7.1.2-py3-none-any.whl (22 kB)\n",
            "Collecting Werkzeug>=3.0.0 (from Flask==3.0.0)\n",
            "  Downloading werkzeug-3.0.2-py3-none-any.whl (226 kB)\n",
            "\u001b[2K     \u001b[90m━━━━━━━━━━━━━━━━━━━━━━━━━━━━━━━━━━━━━━━━\u001b[0m \u001b[32m226.8/226.8 kB\u001b[0m \u001b[31m4.3 MB/s\u001b[0m eta \u001b[36m0:00:00\u001b[0m\n",
            "\u001b[?25hCollecting Jinja2>=3.1.2 (from Flask==3.0.0)\n",
            "  Downloading Jinja2-3.1.3-py3-none-any.whl (133 kB)\n",
            "\u001b[2K     \u001b[90m━━━━━━━━━━━━━━━━━━━━━━━━━━━━━━━━━━━━━━━━\u001b[0m \u001b[32m133.2/133.2 kB\u001b[0m \u001b[31m4.2 MB/s\u001b[0m eta \u001b[36m0:00:00\u001b[0m\n",
            "\u001b[?25hCollecting itsdangerous>=2.1.2 (from Flask==3.0.0)\n",
            "  Downloading itsdangerous-2.2.0-py3-none-any.whl (16 kB)\n",
            "Collecting click>=8.1.3 (from Flask==3.0.0)\n",
            "  Downloading click-8.1.7-py3-none-any.whl (97 kB)\n",
            "\u001b[2K     \u001b[90m━━━━━━━━━━━━━━━━━━━━━━━━━━━━━━━━━━━━━━━━\u001b[0m \u001b[32m97.9/97.9 kB\u001b[0m \u001b[31m3.2 MB/s\u001b[0m eta \u001b[36m0:00:00\u001b[0m\n",
            "\u001b[?25hCollecting blinker>=1.6.2 (from Flask==3.0.0)\n",
            "  Downloading blinker-1.8.1-py3-none-any.whl (9.5 kB)\n",
            "Collecting PyYAML>=5.1 (from pyngrok==7.1.2)\n",
            "  Downloading PyYAML-6.0.1-cp310-cp310-manylinux_2_17_x86_64.manylinux2014_x86_64.whl (705 kB)\n",
            "\u001b[2K     \u001b[90m━━━━━━━━━━━━━━━━━━━━━━━━━━━━━━━━━━━━━━━━\u001b[0m \u001b[32m705.5/705.5 kB\u001b[0m \u001b[31m4.3 MB/s\u001b[0m eta \u001b[36m0:00:00\u001b[0m\n",
            "\u001b[?25hCollecting MarkupSafe>=2.0 (from Jinja2>=3.1.2->Flask==3.0.0)\n",
            "  Downloading MarkupSafe-2.1.5-cp310-cp310-manylinux_2_17_x86_64.manylinux2014_x86_64.whl (25 kB)\n",
            "Installing collected packages: PyYAML, MarkupSafe, itsdangerous, click, blinker, Werkzeug, pyngrok, Jinja2, Flask\n",
            "\u001b[31mERROR: pip's dependency resolver does not currently take into account all the packages that are installed. This behaviour is the source of the following dependency conflicts.\n",
            "torch 2.2.1+cu121 requires nvidia-cublas-cu12==12.1.3.1; platform_system == \"Linux\" and platform_machine == \"x86_64\", which is not installed.\n",
            "torch 2.2.1+cu121 requires nvidia-cuda-cupti-cu12==12.1.105; platform_system == \"Linux\" and platform_machine == \"x86_64\", which is not installed.\n",
            "torch 2.2.1+cu121 requires nvidia-cuda-nvrtc-cu12==12.1.105; platform_system == \"Linux\" and platform_machine == \"x86_64\", which is not installed.\n",
            "torch 2.2.1+cu121 requires nvidia-cuda-runtime-cu12==12.1.105; platform_system == \"Linux\" and platform_machine == \"x86_64\", which is not installed.\n",
            "torch 2.2.1+cu121 requires nvidia-cudnn-cu12==8.9.2.26; platform_system == \"Linux\" and platform_machine == \"x86_64\", which is not installed.\n",
            "torch 2.2.1+cu121 requires nvidia-cufft-cu12==11.0.2.54; platform_system == \"Linux\" and platform_machine == \"x86_64\", which is not installed.\n",
            "torch 2.2.1+cu121 requires nvidia-curand-cu12==10.3.2.106; platform_system == \"Linux\" and platform_machine == \"x86_64\", which is not installed.\n",
            "torch 2.2.1+cu121 requires nvidia-cusolver-cu12==11.4.5.107; platform_system == \"Linux\" and platform_machine == \"x86_64\", which is not installed.\n",
            "torch 2.2.1+cu121 requires nvidia-cusparse-cu12==12.1.0.106; platform_system == \"Linux\" and platform_machine == \"x86_64\", which is not installed.\n",
            "torch 2.2.1+cu121 requires nvidia-nccl-cu12==2.19.3; platform_system == \"Linux\" and platform_machine == \"x86_64\", which is not installed.\n",
            "torch 2.2.1+cu121 requires nvidia-nvtx-cu12==12.1.105; platform_system == \"Linux\" and platform_machine == \"x86_64\", which is not installed.\u001b[0m\u001b[31m\n",
            "\u001b[0mSuccessfully installed Flask-2.2.5 Jinja2-3.1.3 MarkupSafe-2.1.5 PyYAML-6.0.1 Werkzeug-3.0.2 blinker-1.8.1 click-8.1.7 itsdangerous-2.2.0 pyngrok-7.1.2\n"
          ]
        }
      ],
      "source": [
        "!pip install --ignore-installed Flask==3.0.0 pyngrok==7.1.2\n",
        "ngrok_key = \"Coloca tu token de ngrok aquí\"\n",
        "port = 5000\n",
        "\n",
        "from pyngrok import ngrok"
      ]
    },
    {
      "cell_type": "code",
      "execution_count": null,
      "metadata": {
        "colab": {
          "base_uri": "https://localhost:8080/"
        },
        "id": "9OggXkhLynvX",
        "outputId": "96bba955-7f2d-4afe-9f5d-cec656b09b5e"
      },
      "outputs": [
        {
          "name": "stdout",
          "output_type": "stream",
          "text": []
        },
        {
          "data": {
            "text/plain": [
              "<NgrokTunnel: \"https://3e5b-34-28-29-6.ngrok-free.app\" -> \"http://localhost:5000\">"
            ]
          },
          "execution_count": 21,
          "metadata": {},
          "output_type": "execute_result"
        }
      ],
      "source": [
        "ngrok.set_auth_token(ngrok_key)\n",
        "ngrok.connect(port)"
      ]
    },
    {
      "cell_type": "code",
      "execution_count": null,
      "metadata": {
        "colab": {
          "base_uri": "https://localhost:8080/",
          "height": 521
        },
        "id": "y42gyxiv7VUf",
        "outputId": "70c270f6-dc82-478b-c8f8-b5e603ef25bc"
      },
      "outputs": [
        {
          "data": {
            "text/html": [
              "\n",
              "        <iframe\n",
              "            width=\"500\"\n",
              "            height=\"500\"\n",
              "            src=\"https://projects.rolandoandrade.me/identity/\"\n",
              "            frameborder=\"0\"\n",
              "            allowfullscreen\n",
              "            \n",
              "        ></iframe>\n",
              "        "
            ],
            "text/plain": [
              "<IPython.lib.display.IFrame at 0x7a45f39fa2f0>"
            ]
          },
          "execution_count": 22,
          "metadata": {},
          "output_type": "execute_result"
        }
      ],
      "source": [
        "from IPython.display import IFrame\n",
        "IFrame(src=\"https://projects.rolandoandrade.me/identity/\", width=500, height=500)"
      ]
    },
    {
      "cell_type": "code",
      "execution_count": null,
      "metadata": {
        "colab": {
          "base_uri": "https://localhost:8080/"
        },
        "id": "yBB9AN-Wyt0Y",
        "outputId": "b2c76fd9-3c12-4eb7-f684-9abfdd5ec0c5"
      },
      "outputs": [
        {
          "name": "stdout",
          "output_type": "stream",
          "text": [
            " * Serving Flask app '__main__'\n",
            " * Debug mode: off\n"
          ]
        },
        {
          "name": "stderr",
          "output_type": "stream",
          "text": [
            "INFO:werkzeug:\u001b[31m\u001b[1mWARNING: This is a development server. Do not use it in a production deployment. Use a production WSGI server instead.\u001b[0m\n",
            " * Running on http://127.0.0.1:5000\n",
            "INFO:werkzeug:\u001b[33mPress CTRL+C to quit\u001b[0m\n",
            "ERROR:__main__:Exception on / [GET]\n",
            "Traceback (most recent call last):\n",
            "  File \"/usr/local/lib/python3.10/dist-packages/flask/app.py\", line 1455, in wsgi_app\n",
            "    response = self.full_dispatch_request()\n",
            "  File \"/usr/local/lib/python3.10/dist-packages/flask/app.py\", line 869, in full_dispatch_request\n",
            "    rv = self.handle_user_exception(e)\n",
            "  File \"/usr/local/lib/python3.10/dist-packages/flask/app.py\", line 867, in full_dispatch_request\n",
            "    rv = self.dispatch_request()\n",
            "  File \"/usr/local/lib/python3.10/dist-packages/flask/app.py\", line 852, in dispatch_request\n",
            "    return self.ensure_sync(self.view_functions[rule.endpoint])(**view_args)\n",
            "  File \"<ipython-input-23-7af591fabbb4>\", line 9, in hello\n",
            "    data = download_image(image_url)\n",
            "  File \"<ipython-input-18-4f100dc12784>\", line 21, in download_image\n",
            "    image = Image.open(BytesIO(image_data)).convert('L')\n",
            "  File \"/usr/local/lib/python3.10/dist-packages/PIL/Image.py\", line 3283, in open\n",
            "    raise UnidentifiedImageError(msg)\n",
            "PIL.UnidentifiedImageError: cannot identify image file <_io.BytesIO object at 0x7a45f3fc0cc0>\n",
            "INFO:werkzeug:127.0.0.1 - - [29/Apr/2024 12:29:56] \"\u001b[35m\u001b[1mGET /?image_url=https://projects.rolandoandrade.me/identity/ HTTP/1.1\u001b[0m\" 500 -\n",
            "INFO:werkzeug:127.0.0.1 - - [29/Apr/2024 12:29:57] \"GET /?image_url=https://projects.rolandoandrade.me/identity/Blair.png HTTP/1.1\" 200 -\n",
            "ERROR:__main__:Exception on / [GET]\n",
            "Traceback (most recent call last):\n",
            "  File \"/usr/local/lib/python3.10/dist-packages/flask/app.py\", line 1455, in wsgi_app\n",
            "    response = self.full_dispatch_request()\n",
            "  File \"/usr/local/lib/python3.10/dist-packages/flask/app.py\", line 869, in full_dispatch_request\n",
            "    rv = self.handle_user_exception(e)\n",
            "  File \"/usr/local/lib/python3.10/dist-packages/flask/app.py\", line 867, in full_dispatch_request\n",
            "    rv = self.dispatch_request()\n",
            "  File \"/usr/local/lib/python3.10/dist-packages/flask/app.py\", line 852, in dispatch_request\n",
            "    return self.ensure_sync(self.view_functions[rule.endpoint])(**view_args)\n",
            "  File \"<ipython-input-23-7af591fabbb4>\", line 10, in hello\n",
            "    response = identify(data)\n",
            "  File \"<ipython-input-19-78f539e0d4e5>\", line 10, in identify\n",
            "    target = best_clf.predict([image_data])[0]\n",
            "  File \"/usr/local/lib/python3.10/dist-packages/sklearn/pipeline.py\", line 480, in predict\n",
            "    Xt = transform.transform(Xt)\n",
            "  File \"/usr/local/lib/python3.10/dist-packages/sklearn/utils/_set_output.py\", line 140, in wrapped\n",
            "    data_to_wrap = f(self, X, *args, **kwargs)\n",
            "  File \"/usr/local/lib/python3.10/dist-packages/sklearn/decomposition/_base.py\", line 120, in transform\n",
            "    X = self._validate_data(X, dtype=[np.float64, np.float32], reset=False)\n",
            "  File \"/usr/local/lib/python3.10/dist-packages/sklearn/base.py\", line 565, in _validate_data\n",
            "    X = check_array(X, input_name=\"X\", **check_params)\n",
            "  File \"/usr/local/lib/python3.10/dist-packages/sklearn/utils/validation.py\", line 902, in check_array\n",
            "    raise ValueError(\n",
            "ValueError: Expected 2D array, got 1D array instead:\n",
            "array=[nan].\n",
            "Reshape your data either using array.reshape(-1, 1) if your data has a single feature or array.reshape(1, -1) if it contains a single sample.\n",
            "INFO:werkzeug:127.0.0.1 - - [29/Apr/2024 12:30:00] \"\u001b[35m\u001b[1mGET /?image_url=https://projects.rolandoandrade.me/identity/B.png HTTP/1.1\u001b[0m\" 500 -\n"
          ]
        },
        {
          "name": "stdout",
          "output_type": "stream",
          "text": [
            "Failed to download the image. 404\n"
          ]
        },
        {
          "name": "stderr",
          "output_type": "stream",
          "text": [
            "ERROR:__main__:Exception on / [GET]\n",
            "Traceback (most recent call last):\n",
            "  File \"/usr/local/lib/python3.10/dist-packages/flask/app.py\", line 1455, in wsgi_app\n",
            "    response = self.full_dispatch_request()\n",
            "  File \"/usr/local/lib/python3.10/dist-packages/flask/app.py\", line 869, in full_dispatch_request\n",
            "    rv = self.handle_user_exception(e)\n",
            "  File \"/usr/local/lib/python3.10/dist-packages/flask/app.py\", line 867, in full_dispatch_request\n",
            "    rv = self.dispatch_request()\n",
            "  File \"/usr/local/lib/python3.10/dist-packages/flask/app.py\", line 852, in dispatch_request\n",
            "    return self.ensure_sync(self.view_functions[rule.endpoint])(**view_args)\n",
            "  File \"<ipython-input-23-7af591fabbb4>\", line 10, in hello\n",
            "    response = identify(data)\n",
            "  File \"<ipython-input-19-78f539e0d4e5>\", line 10, in identify\n",
            "    target = best_clf.predict([image_data])[0]\n",
            "  File \"/usr/local/lib/python3.10/dist-packages/sklearn/pipeline.py\", line 480, in predict\n",
            "    Xt = transform.transform(Xt)\n",
            "  File \"/usr/local/lib/python3.10/dist-packages/sklearn/utils/_set_output.py\", line 140, in wrapped\n",
            "    data_to_wrap = f(self, X, *args, **kwargs)\n",
            "  File \"/usr/local/lib/python3.10/dist-packages/sklearn/decomposition/_base.py\", line 120, in transform\n",
            "    X = self._validate_data(X, dtype=[np.float64, np.float32], reset=False)\n",
            "  File \"/usr/local/lib/python3.10/dist-packages/sklearn/base.py\", line 565, in _validate_data\n",
            "    X = check_array(X, input_name=\"X\", **check_params)\n",
            "  File \"/usr/local/lib/python3.10/dist-packages/sklearn/utils/validation.py\", line 902, in check_array\n",
            "    raise ValueError(\n",
            "ValueError: Expected 2D array, got 1D array instead:\n",
            "array=[nan].\n",
            "Reshape your data either using array.reshape(-1, 1) if your data has a single feature or array.reshape(1, -1) if it contains a single sample.\n",
            "INFO:werkzeug:127.0.0.1 - - [29/Apr/2024 12:30:00] \"\u001b[35m\u001b[1mGET /?image_url=https://projects.rolandoandrade.me/identity/Bu.png HTTP/1.1\u001b[0m\" 500 -\n",
            "ERROR:__main__:Exception on / [GET]\n",
            "Traceback (most recent call last):\n",
            "  File \"/usr/local/lib/python3.10/dist-packages/flask/app.py\", line 1455, in wsgi_app\n",
            "    response = self.full_dispatch_request()\n",
            "  File \"/usr/local/lib/python3.10/dist-packages/flask/app.py\", line 869, in full_dispatch_request\n",
            "    rv = self.handle_user_exception(e)\n",
            "  File \"/usr/local/lib/python3.10/dist-packages/flask/app.py\", line 867, in full_dispatch_request\n",
            "    rv = self.dispatch_request()\n",
            "  File \"/usr/local/lib/python3.10/dist-packages/flask/app.py\", line 852, in dispatch_request\n",
            "    return self.ensure_sync(self.view_functions[rule.endpoint])(**view_args)\n",
            "  File \"<ipython-input-23-7af591fabbb4>\", line 10, in hello\n",
            "    response = identify(data)\n",
            "  File \"<ipython-input-19-78f539e0d4e5>\", line 10, in identify\n",
            "    target = best_clf.predict([image_data])[0]\n",
            "  File \"/usr/local/lib/python3.10/dist-packages/sklearn/pipeline.py\", line 480, in predict\n",
            "    Xt = transform.transform(Xt)\n",
            "  File \"/usr/local/lib/python3.10/dist-packages/sklearn/utils/_set_output.py\", line 140, in wrapped\n",
            "    data_to_wrap = f(self, X, *args, **kwargs)\n",
            "  File \"/usr/local/lib/python3.10/dist-packages/sklearn/decomposition/_base.py\", line 120, in transform\n",
            "    X = self._validate_data(X, dtype=[np.float64, np.float32], reset=False)\n",
            "  File \"/usr/local/lib/python3.10/dist-packages/sklearn/base.py\", line 565, in _validate_data\n",
            "    X = check_array(X, input_name=\"X\", **check_params)\n",
            "  File \"/usr/local/lib/python3.10/dist-packages/sklearn/utils/validation.py\", line 902, in check_array\n",
            "    raise ValueError(\n",
            "ValueError: Expected 2D array, got 1D array instead:\n",
            "array=[nan].\n",
            "Reshape your data either using array.reshape(-1, 1) if your data has a single feature or array.reshape(1, -1) if it contains a single sample.\n",
            "INFO:werkzeug:127.0.0.1 - - [29/Apr/2024 12:30:01] \"\u001b[35m\u001b[1mGET /?image_url=https://projects.rolandoandrade.me/identity/Bus.png HTTP/1.1\u001b[0m\" 500 -\n",
            "INFO:werkzeug:127.0.0.1 - - [29/Apr/2024 12:30:01] \"GET /?image_url=https://projects.rolandoandrade.me/identity/Bush.png HTTP/1.1\" 200 -\n"
          ]
        },
        {
          "name": "stdout",
          "output_type": "stream",
          "text": [
            "Failed to download the image. 404\n",
            "Failed to download the image. 404\n"
          ]
        },
        {
          "name": "stderr",
          "output_type": "stream",
          "text": [
            "INFO:werkzeug:127.0.0.1 - - [29/Apr/2024 12:30:04] \"GET /?image_url=https://projects.rolandoandrade.me/identity/Bush2.png HTTP/1.1\" 200 -\n",
            "ERROR:__main__:Exception on / [GET]\n",
            "Traceback (most recent call last):\n",
            "  File \"/usr/local/lib/python3.10/dist-packages/flask/app.py\", line 1455, in wsgi_app\n",
            "    response = self.full_dispatch_request()\n",
            "  File \"/usr/local/lib/python3.10/dist-packages/flask/app.py\", line 869, in full_dispatch_request\n",
            "    rv = self.handle_user_exception(e)\n",
            "  File \"/usr/local/lib/python3.10/dist-packages/flask/app.py\", line 867, in full_dispatch_request\n",
            "    rv = self.dispatch_request()\n",
            "  File \"/usr/local/lib/python3.10/dist-packages/flask/app.py\", line 852, in dispatch_request\n",
            "    return self.ensure_sync(self.view_functions[rule.endpoint])(**view_args)\n",
            "  File \"<ipython-input-23-7af591fabbb4>\", line 10, in hello\n",
            "    response = identify(data)\n",
            "  File \"<ipython-input-19-78f539e0d4e5>\", line 10, in identify\n",
            "    target = best_clf.predict([image_data])[0]\n",
            "  File \"/usr/local/lib/python3.10/dist-packages/sklearn/pipeline.py\", line 480, in predict\n",
            "    Xt = transform.transform(Xt)\n",
            "  File \"/usr/local/lib/python3.10/dist-packages/sklearn/utils/_set_output.py\", line 140, in wrapped\n",
            "    data_to_wrap = f(self, X, *args, **kwargs)\n",
            "  File \"/usr/local/lib/python3.10/dist-packages/sklearn/decomposition/_base.py\", line 120, in transform\n",
            "    X = self._validate_data(X, dtype=[np.float64, np.float32], reset=False)\n",
            "  File \"/usr/local/lib/python3.10/dist-packages/sklearn/base.py\", line 565, in _validate_data\n",
            "    X = check_array(X, input_name=\"X\", **check_params)\n",
            "  File \"/usr/local/lib/python3.10/dist-packages/sklearn/utils/validation.py\", line 902, in check_array\n",
            "    raise ValueError(\n",
            "ValueError: Expected 2D array, got 1D array instead:\n",
            "array=[nan].\n",
            "Reshape your data either using array.reshape(-1, 1) if your data has a single feature or array.reshape(1, -1) if it contains a single sample.\n",
            "INFO:werkzeug:127.0.0.1 - - [29/Apr/2024 12:30:08] \"\u001b[35m\u001b[1mGET /?image_url=https://projects.rolandoandrade.me/identity/P.png HTTP/1.1\u001b[0m\" 500 -\n"
          ]
        },
        {
          "name": "stdout",
          "output_type": "stream",
          "text": [
            "Failed to download the image. 404\n"
          ]
        },
        {
          "name": "stderr",
          "output_type": "stream",
          "text": [
            "ERROR:__main__:Exception on / [GET]\n",
            "Traceback (most recent call last):\n",
            "  File \"/usr/local/lib/python3.10/dist-packages/flask/app.py\", line 1455, in wsgi_app\n",
            "    response = self.full_dispatch_request()\n",
            "  File \"/usr/local/lib/python3.10/dist-packages/flask/app.py\", line 869, in full_dispatch_request\n",
            "    rv = self.handle_user_exception(e)\n",
            "  File \"/usr/local/lib/python3.10/dist-packages/flask/app.py\", line 867, in full_dispatch_request\n",
            "    rv = self.dispatch_request()\n",
            "  File \"/usr/local/lib/python3.10/dist-packages/flask/app.py\", line 852, in dispatch_request\n",
            "    return self.ensure_sync(self.view_functions[rule.endpoint])(**view_args)\n",
            "  File \"<ipython-input-23-7af591fabbb4>\", line 10, in hello\n",
            "    response = identify(data)\n",
            "  File \"<ipython-input-19-78f539e0d4e5>\", line 10, in identify\n",
            "    target = best_clf.predict([image_data])[0]\n",
            "  File \"/usr/local/lib/python3.10/dist-packages/sklearn/pipeline.py\", line 480, in predict\n",
            "    Xt = transform.transform(Xt)\n",
            "  File \"/usr/local/lib/python3.10/dist-packages/sklearn/utils/_set_output.py\", line 140, in wrapped\n",
            "    data_to_wrap = f(self, X, *args, **kwargs)\n",
            "  File \"/usr/local/lib/python3.10/dist-packages/sklearn/decomposition/_base.py\", line 120, in transform\n",
            "    X = self._validate_data(X, dtype=[np.float64, np.float32], reset=False)\n",
            "  File \"/usr/local/lib/python3.10/dist-packages/sklearn/base.py\", line 565, in _validate_data\n",
            "    X = check_array(X, input_name=\"X\", **check_params)\n",
            "  File \"/usr/local/lib/python3.10/dist-packages/sklearn/utils/validation.py\", line 902, in check_array\n",
            "    raise ValueError(\n",
            "ValueError: Expected 2D array, got 1D array instead:\n",
            "array=[nan].\n",
            "Reshape your data either using array.reshape(-1, 1) if your data has a single feature or array.reshape(1, -1) if it contains a single sample.\n",
            "INFO:werkzeug:127.0.0.1 - - [29/Apr/2024 12:30:08] \"\u001b[35m\u001b[1mGET /?image_url=https://projects.rolandoandrade.me/identity/Po.png HTTP/1.1\u001b[0m\" 500 -\n",
            "ERROR:__main__:Exception on / [GET]\n",
            "Traceback (most recent call last):\n",
            "  File \"/usr/local/lib/python3.10/dist-packages/flask/app.py\", line 1455, in wsgi_app\n",
            "    response = self.full_dispatch_request()\n",
            "  File \"/usr/local/lib/python3.10/dist-packages/flask/app.py\", line 869, in full_dispatch_request\n",
            "    rv = self.handle_user_exception(e)\n",
            "  File \"/usr/local/lib/python3.10/dist-packages/flask/app.py\", line 867, in full_dispatch_request\n",
            "    rv = self.dispatch_request()\n",
            "  File \"/usr/local/lib/python3.10/dist-packages/flask/app.py\", line 852, in dispatch_request\n",
            "    return self.ensure_sync(self.view_functions[rule.endpoint])(**view_args)\n",
            "  File \"<ipython-input-23-7af591fabbb4>\", line 10, in hello\n",
            "    response = identify(data)\n",
            "  File \"<ipython-input-19-78f539e0d4e5>\", line 10, in identify\n",
            "    target = best_clf.predict([image_data])[0]\n",
            "  File \"/usr/local/lib/python3.10/dist-packages/sklearn/pipeline.py\", line 480, in predict\n",
            "    Xt = transform.transform(Xt)\n",
            "  File \"/usr/local/lib/python3.10/dist-packages/sklearn/utils/_set_output.py\", line 140, in wrapped\n",
            "    data_to_wrap = f(self, X, *args, **kwargs)\n",
            "  File \"/usr/local/lib/python3.10/dist-packages/sklearn/decomposition/_base.py\", line 120, in transform\n",
            "    X = self._validate_data(X, dtype=[np.float64, np.float32], reset=False)\n",
            "  File \"/usr/local/lib/python3.10/dist-packages/sklearn/base.py\", line 565, in _validate_data\n",
            "    X = check_array(X, input_name=\"X\", **check_params)\n",
            "  File \"/usr/local/lib/python3.10/dist-packages/sklearn/utils/validation.py\", line 902, in check_array\n",
            "    raise ValueError(\n",
            "ValueError: Expected 2D array, got 1D array instead:\n",
            "array=[nan].\n",
            "Reshape your data either using array.reshape(-1, 1) if your data has a single feature or array.reshape(1, -1) if it contains a single sample.\n",
            "INFO:werkzeug:127.0.0.1 - - [29/Apr/2024 12:30:08] \"\u001b[35m\u001b[1mGET /?image_url=https://projects.rolandoandrade.me/identity/Pow.png HTTP/1.1\u001b[0m\" 500 -\n"
          ]
        },
        {
          "name": "stdout",
          "output_type": "stream",
          "text": [
            "Failed to download the image. 404\n",
            "Failed to download the image. 404\n"
          ]
        },
        {
          "name": "stderr",
          "output_type": "stream",
          "text": [
            "ERROR:__main__:Exception on / [GET]\n",
            "Traceback (most recent call last):\n",
            "  File \"/usr/local/lib/python3.10/dist-packages/flask/app.py\", line 1455, in wsgi_app\n",
            "    response = self.full_dispatch_request()\n",
            "  File \"/usr/local/lib/python3.10/dist-packages/flask/app.py\", line 869, in full_dispatch_request\n",
            "    rv = self.handle_user_exception(e)\n",
            "  File \"/usr/local/lib/python3.10/dist-packages/flask/app.py\", line 867, in full_dispatch_request\n",
            "    rv = self.dispatch_request()\n",
            "  File \"/usr/local/lib/python3.10/dist-packages/flask/app.py\", line 852, in dispatch_request\n",
            "    return self.ensure_sync(self.view_functions[rule.endpoint])(**view_args)\n",
            "  File \"<ipython-input-23-7af591fabbb4>\", line 10, in hello\n",
            "    response = identify(data)\n",
            "  File \"<ipython-input-19-78f539e0d4e5>\", line 10, in identify\n",
            "    target = best_clf.predict([image_data])[0]\n",
            "  File \"/usr/local/lib/python3.10/dist-packages/sklearn/pipeline.py\", line 480, in predict\n",
            "    Xt = transform.transform(Xt)\n",
            "  File \"/usr/local/lib/python3.10/dist-packages/sklearn/utils/_set_output.py\", line 140, in wrapped\n",
            "    data_to_wrap = f(self, X, *args, **kwargs)\n",
            "  File \"/usr/local/lib/python3.10/dist-packages/sklearn/decomposition/_base.py\", line 120, in transform\n",
            "    X = self._validate_data(X, dtype=[np.float64, np.float32], reset=False)\n",
            "  File \"/usr/local/lib/python3.10/dist-packages/sklearn/base.py\", line 565, in _validate_data\n",
            "    X = check_array(X, input_name=\"X\", **check_params)\n",
            "  File \"/usr/local/lib/python3.10/dist-packages/sklearn/utils/validation.py\", line 902, in check_array\n",
            "    raise ValueError(\n",
            "ValueError: Expected 2D array, got 1D array instead:\n",
            "array=[nan].\n",
            "Reshape your data either using array.reshape(-1, 1) if your data has a single feature or array.reshape(1, -1) if it contains a single sample.\n",
            "INFO:werkzeug:127.0.0.1 - - [29/Apr/2024 12:30:09] \"\u001b[35m\u001b[1mGET /?image_url=https://projects.rolandoandrade.me/identity/Powe.png HTTP/1.1\u001b[0m\" 500 -\n"
          ]
        },
        {
          "name": "stdout",
          "output_type": "stream",
          "text": [
            "Failed to download the image. 404\n",
            "Failed to download the image. 404\n"
          ]
        },
        {
          "name": "stderr",
          "output_type": "stream",
          "text": [
            "ERROR:__main__:Exception on / [GET]\n",
            "Traceback (most recent call last):\n",
            "  File \"/usr/local/lib/python3.10/dist-packages/flask/app.py\", line 1455, in wsgi_app\n",
            "    response = self.full_dispatch_request()\n",
            "  File \"/usr/local/lib/python3.10/dist-packages/flask/app.py\", line 869, in full_dispatch_request\n",
            "    rv = self.handle_user_exception(e)\n",
            "  File \"/usr/local/lib/python3.10/dist-packages/flask/app.py\", line 867, in full_dispatch_request\n",
            "    rv = self.dispatch_request()\n",
            "  File \"/usr/local/lib/python3.10/dist-packages/flask/app.py\", line 852, in dispatch_request\n",
            "    return self.ensure_sync(self.view_functions[rule.endpoint])(**view_args)\n",
            "  File \"<ipython-input-23-7af591fabbb4>\", line 10, in hello\n",
            "    response = identify(data)\n",
            "  File \"<ipython-input-19-78f539e0d4e5>\", line 10, in identify\n",
            "    target = best_clf.predict([image_data])[0]\n",
            "  File \"/usr/local/lib/python3.10/dist-packages/sklearn/pipeline.py\", line 480, in predict\n",
            "    Xt = transform.transform(Xt)\n",
            "  File \"/usr/local/lib/python3.10/dist-packages/sklearn/utils/_set_output.py\", line 140, in wrapped\n",
            "    data_to_wrap = f(self, X, *args, **kwargs)\n",
            "  File \"/usr/local/lib/python3.10/dist-packages/sklearn/decomposition/_base.py\", line 120, in transform\n",
            "    X = self._validate_data(X, dtype=[np.float64, np.float32], reset=False)\n",
            "  File \"/usr/local/lib/python3.10/dist-packages/sklearn/base.py\", line 565, in _validate_data\n",
            "    X = check_array(X, input_name=\"X\", **check_params)\n",
            "  File \"/usr/local/lib/python3.10/dist-packages/sklearn/utils/validation.py\", line 902, in check_array\n",
            "    raise ValueError(\n",
            "ValueError: Expected 2D array, got 1D array instead:\n",
            "array=[nan].\n",
            "Reshape your data either using array.reshape(-1, 1) if your data has a single feature or array.reshape(1, -1) if it contains a single sample.\n",
            "INFO:werkzeug:127.0.0.1 - - [29/Apr/2024 12:30:09] \"\u001b[35m\u001b[1mGET /?image_url=https://projects.rolandoandrade.me/identity/Powel.png HTTP/1.1\u001b[0m\" 500 -\n",
            "INFO:werkzeug:127.0.0.1 - - [29/Apr/2024 12:30:09] \"GET /?image_url=https://projects.rolandoandrade.me/identity/Powell.png HTTP/1.1\" 200 -\n",
            "ERROR:__main__:Exception on / [GET]\n",
            "Traceback (most recent call last):\n",
            "  File \"/usr/local/lib/python3.10/dist-packages/flask/app.py\", line 1455, in wsgi_app\n",
            "    response = self.full_dispatch_request()\n",
            "  File \"/usr/local/lib/python3.10/dist-packages/flask/app.py\", line 869, in full_dispatch_request\n",
            "    rv = self.handle_user_exception(e)\n",
            "  File \"/usr/local/lib/python3.10/dist-packages/flask/app.py\", line 867, in full_dispatch_request\n",
            "    rv = self.dispatch_request()\n",
            "  File \"/usr/local/lib/python3.10/dist-packages/flask/app.py\", line 852, in dispatch_request\n",
            "    return self.ensure_sync(self.view_functions[rule.endpoint])(**view_args)\n",
            "  File \"<ipython-input-23-7af591fabbb4>\", line 10, in hello\n",
            "    response = identify(data)\n",
            "  File \"<ipython-input-19-78f539e0d4e5>\", line 10, in identify\n",
            "    target = best_clf.predict([image_data])[0]\n",
            "  File \"/usr/local/lib/python3.10/dist-packages/sklearn/pipeline.py\", line 480, in predict\n",
            "    Xt = transform.transform(Xt)\n",
            "  File \"/usr/local/lib/python3.10/dist-packages/sklearn/utils/_set_output.py\", line 140, in wrapped\n",
            "    data_to_wrap = f(self, X, *args, **kwargs)\n",
            "  File \"/usr/local/lib/python3.10/dist-packages/sklearn/decomposition/_base.py\", line 120, in transform\n",
            "    X = self._validate_data(X, dtype=[np.float64, np.float32], reset=False)\n",
            "  File \"/usr/local/lib/python3.10/dist-packages/sklearn/base.py\", line 565, in _validate_data\n",
            "    X = check_array(X, input_name=\"X\", **check_params)\n",
            "  File \"/usr/local/lib/python3.10/dist-packages/sklearn/utils/validation.py\", line 902, in check_array\n",
            "    raise ValueError(\n",
            "ValueError: Expected 2D array, got 1D array instead:\n",
            "array=[nan].\n",
            "Reshape your data either using array.reshape(-1, 1) if your data has a single feature or array.reshape(1, -1) if it contains a single sample.\n",
            "INFO:werkzeug:127.0.0.1 - - [29/Apr/2024 12:30:15] \"\u001b[35m\u001b[1mGET /?image_url=https://projects.rolandoandrade.me/identity/S.png HTTP/1.1\u001b[0m\" 500 -\n"
          ]
        },
        {
          "name": "stdout",
          "output_type": "stream",
          "text": [
            "Failed to download the image. 404\n"
          ]
        },
        {
          "name": "stderr",
          "output_type": "stream",
          "text": [
            "ERROR:__main__:Exception on / [GET]\n",
            "Traceback (most recent call last):\n",
            "  File \"/usr/local/lib/python3.10/dist-packages/flask/app.py\", line 1455, in wsgi_app\n",
            "    response = self.full_dispatch_request()\n",
            "  File \"/usr/local/lib/python3.10/dist-packages/flask/app.py\", line 869, in full_dispatch_request\n",
            "    rv = self.handle_user_exception(e)\n",
            "  File \"/usr/local/lib/python3.10/dist-packages/flask/app.py\", line 867, in full_dispatch_request\n",
            "    rv = self.dispatch_request()\n",
            "  File \"/usr/local/lib/python3.10/dist-packages/flask/app.py\", line 852, in dispatch_request\n",
            "    return self.ensure_sync(self.view_functions[rule.endpoint])(**view_args)\n",
            "  File \"<ipython-input-23-7af591fabbb4>\", line 10, in hello\n",
            "    response = identify(data)\n",
            "  File \"<ipython-input-19-78f539e0d4e5>\", line 10, in identify\n",
            "    target = best_clf.predict([image_data])[0]\n",
            "  File \"/usr/local/lib/python3.10/dist-packages/sklearn/pipeline.py\", line 480, in predict\n",
            "    Xt = transform.transform(Xt)\n",
            "  File \"/usr/local/lib/python3.10/dist-packages/sklearn/utils/_set_output.py\", line 140, in wrapped\n",
            "    data_to_wrap = f(self, X, *args, **kwargs)\n",
            "  File \"/usr/local/lib/python3.10/dist-packages/sklearn/decomposition/_base.py\", line 120, in transform\n",
            "    X = self._validate_data(X, dtype=[np.float64, np.float32], reset=False)\n",
            "  File \"/usr/local/lib/python3.10/dist-packages/sklearn/base.py\", line 565, in _validate_data\n",
            "    X = check_array(X, input_name=\"X\", **check_params)\n",
            "  File \"/usr/local/lib/python3.10/dist-packages/sklearn/utils/validation.py\", line 902, in check_array\n",
            "    raise ValueError(\n",
            "ValueError: Expected 2D array, got 1D array instead:\n",
            "array=[nan].\n",
            "Reshape your data either using array.reshape(-1, 1) if your data has a single feature or array.reshape(1, -1) if it contains a single sample.\n",
            "INFO:werkzeug:127.0.0.1 - - [29/Apr/2024 12:30:15] \"\u001b[35m\u001b[1mGET /?image_url=https://projects.rolandoandrade.me/identity/Sc.png HTTP/1.1\u001b[0m\" 500 -\n",
            "ERROR:__main__:Exception on / [GET]\n",
            "Traceback (most recent call last):\n",
            "  File \"/usr/local/lib/python3.10/dist-packages/flask/app.py\", line 1455, in wsgi_app\n",
            "    response = self.full_dispatch_request()\n",
            "  File \"/usr/local/lib/python3.10/dist-packages/flask/app.py\", line 869, in full_dispatch_request\n",
            "    rv = self.handle_user_exception(e)\n",
            "  File \"/usr/local/lib/python3.10/dist-packages/flask/app.py\", line 867, in full_dispatch_request\n",
            "    rv = self.dispatch_request()\n",
            "  File \"/usr/local/lib/python3.10/dist-packages/flask/app.py\", line 852, in dispatch_request\n",
            "    return self.ensure_sync(self.view_functions[rule.endpoint])(**view_args)\n",
            "  File \"<ipython-input-23-7af591fabbb4>\", line 10, in hello\n",
            "    response = identify(data)\n",
            "  File \"<ipython-input-19-78f539e0d4e5>\", line 10, in identify\n",
            "    target = best_clf.predict([image_data])[0]\n",
            "  File \"/usr/local/lib/python3.10/dist-packages/sklearn/pipeline.py\", line 480, in predict\n",
            "    Xt = transform.transform(Xt)\n",
            "  File \"/usr/local/lib/python3.10/dist-packages/sklearn/utils/_set_output.py\", line 140, in wrapped\n",
            "    data_to_wrap = f(self, X, *args, **kwargs)\n",
            "  File \"/usr/local/lib/python3.10/dist-packages/sklearn/decomposition/_base.py\", line 120, in transform\n",
            "    X = self._validate_data(X, dtype=[np.float64, np.float32], reset=False)\n",
            "  File \"/usr/local/lib/python3.10/dist-packages/sklearn/base.py\", line 565, in _validate_data\n",
            "    X = check_array(X, input_name=\"X\", **check_params)\n",
            "  File \"/usr/local/lib/python3.10/dist-packages/sklearn/utils/validation.py\", line 902, in check_array\n",
            "    raise ValueError(\n",
            "ValueError: Expected 2D array, got 1D array instead:\n",
            "array=[nan].\n",
            "Reshape your data either using array.reshape(-1, 1) if your data has a single feature or array.reshape(1, -1) if it contains a single sample.\n",
            "INFO:werkzeug:127.0.0.1 - - [29/Apr/2024 12:30:15] \"\u001b[35m\u001b[1mGET /?image_url=https://projects.rolandoandrade.me/identity/Sch.png HTTP/1.1\u001b[0m\" 500 -\n"
          ]
        },
        {
          "name": "stdout",
          "output_type": "stream",
          "text": [
            "Failed to download the image. 404\n",
            "Failed to download the image. 404\n"
          ]
        },
        {
          "name": "stderr",
          "output_type": "stream",
          "text": [
            "ERROR:__main__:Exception on / [GET]\n",
            "Traceback (most recent call last):\n",
            "  File \"/usr/local/lib/python3.10/dist-packages/flask/app.py\", line 1455, in wsgi_app\n",
            "    response = self.full_dispatch_request()\n",
            "  File \"/usr/local/lib/python3.10/dist-packages/flask/app.py\", line 869, in full_dispatch_request\n",
            "    rv = self.handle_user_exception(e)\n",
            "  File \"/usr/local/lib/python3.10/dist-packages/flask/app.py\", line 867, in full_dispatch_request\n",
            "    rv = self.dispatch_request()\n",
            "  File \"/usr/local/lib/python3.10/dist-packages/flask/app.py\", line 852, in dispatch_request\n",
            "    return self.ensure_sync(self.view_functions[rule.endpoint])(**view_args)\n",
            "  File \"<ipython-input-23-7af591fabbb4>\", line 10, in hello\n",
            "    response = identify(data)\n",
            "  File \"<ipython-input-19-78f539e0d4e5>\", line 10, in identify\n",
            "    target = best_clf.predict([image_data])[0]\n",
            "  File \"/usr/local/lib/python3.10/dist-packages/sklearn/pipeline.py\", line 480, in predict\n",
            "    Xt = transform.transform(Xt)\n",
            "  File \"/usr/local/lib/python3.10/dist-packages/sklearn/utils/_set_output.py\", line 140, in wrapped\n",
            "    data_to_wrap = f(self, X, *args, **kwargs)\n",
            "  File \"/usr/local/lib/python3.10/dist-packages/sklearn/decomposition/_base.py\", line 120, in transform\n",
            "    X = self._validate_data(X, dtype=[np.float64, np.float32], reset=False)\n",
            "  File \"/usr/local/lib/python3.10/dist-packages/sklearn/base.py\", line 565, in _validate_data\n",
            "    X = check_array(X, input_name=\"X\", **check_params)\n",
            "  File \"/usr/local/lib/python3.10/dist-packages/sklearn/utils/validation.py\", line 902, in check_array\n",
            "    raise ValueError(\n",
            "ValueError: Expected 2D array, got 1D array instead:\n",
            "array=[nan].\n",
            "Reshape your data either using array.reshape(-1, 1) if your data has a single feature or array.reshape(1, -1) if it contains a single sample.\n",
            "INFO:werkzeug:127.0.0.1 - - [29/Apr/2024 12:30:15] \"\u001b[35m\u001b[1mGET /?image_url=https://projects.rolandoandrade.me/identity/Scho.png HTTP/1.1\u001b[0m\" 500 -\n",
            "ERROR:__main__:Exception on / [GET]\n",
            "Traceback (most recent call last):\n",
            "  File \"/usr/local/lib/python3.10/dist-packages/flask/app.py\", line 1455, in wsgi_app\n",
            "    response = self.full_dispatch_request()\n",
            "  File \"/usr/local/lib/python3.10/dist-packages/flask/app.py\", line 869, in full_dispatch_request\n",
            "    rv = self.handle_user_exception(e)\n",
            "  File \"/usr/local/lib/python3.10/dist-packages/flask/app.py\", line 867, in full_dispatch_request\n",
            "    rv = self.dispatch_request()\n",
            "  File \"/usr/local/lib/python3.10/dist-packages/flask/app.py\", line 852, in dispatch_request\n",
            "    return self.ensure_sync(self.view_functions[rule.endpoint])(**view_args)\n",
            "  File \"<ipython-input-23-7af591fabbb4>\", line 10, in hello\n",
            "    response = identify(data)\n",
            "  File \"<ipython-input-19-78f539e0d4e5>\", line 10, in identify\n",
            "    target = best_clf.predict([image_data])[0]\n",
            "  File \"/usr/local/lib/python3.10/dist-packages/sklearn/pipeline.py\", line 480, in predict\n",
            "    Xt = transform.transform(Xt)\n",
            "  File \"/usr/local/lib/python3.10/dist-packages/sklearn/utils/_set_output.py\", line 140, in wrapped\n",
            "    data_to_wrap = f(self, X, *args, **kwargs)\n",
            "  File \"/usr/local/lib/python3.10/dist-packages/sklearn/decomposition/_base.py\", line 120, in transform\n",
            "    X = self._validate_data(X, dtype=[np.float64, np.float32], reset=False)\n",
            "  File \"/usr/local/lib/python3.10/dist-packages/sklearn/base.py\", line 565, in _validate_data\n",
            "    X = check_array(X, input_name=\"X\", **check_params)\n",
            "  File \"/usr/local/lib/python3.10/dist-packages/sklearn/utils/validation.py\", line 902, in check_array\n",
            "    raise ValueError(\n",
            "ValueError: Expected 2D array, got 1D array instead:\n",
            "array=[nan].\n",
            "Reshape your data either using array.reshape(-1, 1) if your data has a single feature or array.reshape(1, -1) if it contains a single sample.\n",
            "INFO:werkzeug:127.0.0.1 - - [29/Apr/2024 12:30:15] \"\u001b[35m\u001b[1mGET /?image_url=https://projects.rolandoandrade.me/identity/Schoe.png HTTP/1.1\u001b[0m\" 500 -\n",
            "ERROR:__main__:Exception on / [GET]\n",
            "Traceback (most recent call last):\n",
            "  File \"/usr/local/lib/python3.10/dist-packages/flask/app.py\", line 1455, in wsgi_app\n",
            "    response = self.full_dispatch_request()\n",
            "  File \"/usr/local/lib/python3.10/dist-packages/flask/app.py\", line 869, in full_dispatch_request\n",
            "    rv = self.handle_user_exception(e)\n",
            "  File \"/usr/local/lib/python3.10/dist-packages/flask/app.py\", line 867, in full_dispatch_request\n",
            "    rv = self.dispatch_request()\n",
            "  File \"/usr/local/lib/python3.10/dist-packages/flask/app.py\", line 852, in dispatch_request\n",
            "    return self.ensure_sync(self.view_functions[rule.endpoint])(**view_args)\n",
            "  File \"<ipython-input-23-7af591fabbb4>\", line 10, in hello\n",
            "    response = identify(data)\n",
            "  File \"<ipython-input-19-78f539e0d4e5>\", line 10, in identify\n",
            "    target = best_clf.predict([image_data])[0]\n",
            "  File \"/usr/local/lib/python3.10/dist-packages/sklearn/pipeline.py\", line 480, in predict\n",
            "    Xt = transform.transform(Xt)\n",
            "  File \"/usr/local/lib/python3.10/dist-packages/sklearn/utils/_set_output.py\", line 140, in wrapped\n",
            "    data_to_wrap = f(self, X, *args, **kwargs)\n",
            "  File \"/usr/local/lib/python3.10/dist-packages/sklearn/decomposition/_base.py\", line 120, in transform\n",
            "    X = self._validate_data(X, dtype=[np.float64, np.float32], reset=False)\n",
            "  File \"/usr/local/lib/python3.10/dist-packages/sklearn/base.py\", line 565, in _validate_data\n",
            "    X = check_array(X, input_name=\"X\", **check_params)\n",
            "  File \"/usr/local/lib/python3.10/dist-packages/sklearn/utils/validation.py\", line 902, in check_array\n",
            "    raise ValueError(\n",
            "ValueError: Expected 2D array, got 1D array instead:\n",
            "array=[nan].\n",
            "Reshape your data either using array.reshape(-1, 1) if your data has a single feature or array.reshape(1, -1) if it contains a single sample.\n",
            "INFO:werkzeug:127.0.0.1 - - [29/Apr/2024 12:30:16] \"\u001b[35m\u001b[1mGET /?image_url=https://projects.rolandoandrade.me/identity/Schoed.png HTTP/1.1\u001b[0m\" 500 -\n"
          ]
        },
        {
          "name": "stdout",
          "output_type": "stream",
          "text": [
            "Failed to download the image. 404\n",
            "Failed to download the image. 404\n",
            "Failed to download the image. 404\n"
          ]
        },
        {
          "name": "stderr",
          "output_type": "stream",
          "text": [
            "ERROR:__main__:Exception on / [GET]\n",
            "Traceback (most recent call last):\n",
            "  File \"/usr/local/lib/python3.10/dist-packages/flask/app.py\", line 1455, in wsgi_app\n",
            "    response = self.full_dispatch_request()\n",
            "  File \"/usr/local/lib/python3.10/dist-packages/flask/app.py\", line 869, in full_dispatch_request\n",
            "    rv = self.handle_user_exception(e)\n",
            "  File \"/usr/local/lib/python3.10/dist-packages/flask/app.py\", line 867, in full_dispatch_request\n",
            "    rv = self.dispatch_request()\n",
            "  File \"/usr/local/lib/python3.10/dist-packages/flask/app.py\", line 852, in dispatch_request\n",
            "    return self.ensure_sync(self.view_functions[rule.endpoint])(**view_args)\n",
            "  File \"<ipython-input-23-7af591fabbb4>\", line 10, in hello\n",
            "    response = identify(data)\n",
            "  File \"<ipython-input-19-78f539e0d4e5>\", line 10, in identify\n",
            "    target = best_clf.predict([image_data])[0]\n",
            "  File \"/usr/local/lib/python3.10/dist-packages/sklearn/pipeline.py\", line 480, in predict\n",
            "    Xt = transform.transform(Xt)\n",
            "  File \"/usr/local/lib/python3.10/dist-packages/sklearn/utils/_set_output.py\", line 140, in wrapped\n",
            "    data_to_wrap = f(self, X, *args, **kwargs)\n",
            "  File \"/usr/local/lib/python3.10/dist-packages/sklearn/decomposition/_base.py\", line 120, in transform\n",
            "    X = self._validate_data(X, dtype=[np.float64, np.float32], reset=False)\n",
            "  File \"/usr/local/lib/python3.10/dist-packages/sklearn/base.py\", line 565, in _validate_data\n",
            "    X = check_array(X, input_name=\"X\", **check_params)\n",
            "  File \"/usr/local/lib/python3.10/dist-packages/sklearn/utils/validation.py\", line 902, in check_array\n",
            "    raise ValueError(\n",
            "ValueError: Expected 2D array, got 1D array instead:\n",
            "array=[nan].\n",
            "Reshape your data either using array.reshape(-1, 1) if your data has a single feature or array.reshape(1, -1) if it contains a single sample.\n",
            "INFO:werkzeug:127.0.0.1 - - [29/Apr/2024 12:30:16] \"\u001b[35m\u001b[1mGET /?image_url=https://projects.rolandoandrade.me/identity/Schoede.png HTTP/1.1\u001b[0m\" 500 -\n",
            "ERROR:__main__:Exception on / [GET]\n",
            "Traceback (most recent call last):\n",
            "  File \"/usr/local/lib/python3.10/dist-packages/flask/app.py\", line 1455, in wsgi_app\n",
            "    response = self.full_dispatch_request()\n",
            "  File \"/usr/local/lib/python3.10/dist-packages/flask/app.py\", line 869, in full_dispatch_request\n",
            "    rv = self.handle_user_exception(e)\n",
            "  File \"/usr/local/lib/python3.10/dist-packages/flask/app.py\", line 867, in full_dispatch_request\n",
            "    rv = self.dispatch_request()\n",
            "  File \"/usr/local/lib/python3.10/dist-packages/flask/app.py\", line 852, in dispatch_request\n",
            "    return self.ensure_sync(self.view_functions[rule.endpoint])(**view_args)\n",
            "  File \"<ipython-input-23-7af591fabbb4>\", line 10, in hello\n",
            "    response = identify(data)\n",
            "  File \"<ipython-input-19-78f539e0d4e5>\", line 10, in identify\n",
            "    target = best_clf.predict([image_data])[0]\n",
            "  File \"/usr/local/lib/python3.10/dist-packages/sklearn/pipeline.py\", line 480, in predict\n",
            "    Xt = transform.transform(Xt)\n",
            "  File \"/usr/local/lib/python3.10/dist-packages/sklearn/utils/_set_output.py\", line 140, in wrapped\n",
            "    data_to_wrap = f(self, X, *args, **kwargs)\n",
            "  File \"/usr/local/lib/python3.10/dist-packages/sklearn/decomposition/_base.py\", line 120, in transform\n",
            "    X = self._validate_data(X, dtype=[np.float64, np.float32], reset=False)\n",
            "  File \"/usr/local/lib/python3.10/dist-packages/sklearn/base.py\", line 565, in _validate_data\n",
            "    X = check_array(X, input_name=\"X\", **check_params)\n",
            "  File \"/usr/local/lib/python3.10/dist-packages/sklearn/utils/validation.py\", line 902, in check_array\n",
            "    raise ValueError(\n",
            "ValueError: Expected 2D array, got 1D array instead:\n",
            "array=[nan].\n",
            "Reshape your data either using array.reshape(-1, 1) if your data has a single feature or array.reshape(1, -1) if it contains a single sample.\n",
            "INFO:werkzeug:127.0.0.1 - - [29/Apr/2024 12:30:16] \"\u001b[35m\u001b[1mGET /?image_url=https://projects.rolandoandrade.me/identity/Schoeder.png HTTP/1.1\u001b[0m\" 500 -\n"
          ]
        },
        {
          "name": "stdout",
          "output_type": "stream",
          "text": [
            "Failed to download the image. 404\n",
            "Failed to download the image. 404\n"
          ]
        },
        {
          "name": "stderr",
          "output_type": "stream",
          "text": [
            "ERROR:__main__:Exception on / [GET]\n",
            "Traceback (most recent call last):\n",
            "  File \"/usr/local/lib/python3.10/dist-packages/flask/app.py\", line 1455, in wsgi_app\n",
            "    response = self.full_dispatch_request()\n",
            "  File \"/usr/local/lib/python3.10/dist-packages/flask/app.py\", line 869, in full_dispatch_request\n",
            "    rv = self.handle_user_exception(e)\n",
            "  File \"/usr/local/lib/python3.10/dist-packages/flask/app.py\", line 867, in full_dispatch_request\n",
            "    rv = self.dispatch_request()\n",
            "  File \"/usr/local/lib/python3.10/dist-packages/flask/app.py\", line 852, in dispatch_request\n",
            "    return self.ensure_sync(self.view_functions[rule.endpoint])(**view_args)\n",
            "  File \"<ipython-input-23-7af591fabbb4>\", line 10, in hello\n",
            "    response = identify(data)\n",
            "  File \"<ipython-input-19-78f539e0d4e5>\", line 10, in identify\n",
            "    target = best_clf.predict([image_data])[0]\n",
            "  File \"/usr/local/lib/python3.10/dist-packages/sklearn/pipeline.py\", line 480, in predict\n",
            "    Xt = transform.transform(Xt)\n",
            "  File \"/usr/local/lib/python3.10/dist-packages/sklearn/utils/_set_output.py\", line 140, in wrapped\n",
            "    data_to_wrap = f(self, X, *args, **kwargs)\n",
            "  File \"/usr/local/lib/python3.10/dist-packages/sklearn/decomposition/_base.py\", line 120, in transform\n",
            "    X = self._validate_data(X, dtype=[np.float64, np.float32], reset=False)\n",
            "  File \"/usr/local/lib/python3.10/dist-packages/sklearn/base.py\", line 565, in _validate_data\n",
            "    X = check_array(X, input_name=\"X\", **check_params)\n",
            "  File \"/usr/local/lib/python3.10/dist-packages/sklearn/utils/validation.py\", line 902, in check_array\n",
            "    raise ValueError(\n",
            "ValueError: Expected 2D array, got 1D array instead:\n",
            "array=[nan].\n",
            "Reshape your data either using array.reshape(-1, 1) if your data has a single feature or array.reshape(1, -1) if it contains a single sample.\n",
            "INFO:werkzeug:127.0.0.1 - - [29/Apr/2024 12:30:17] \"\u001b[35m\u001b[1mGET /?image_url=https://projects.rolandoandrade.me/identity/Schoede.png HTTP/1.1\u001b[0m\" 500 -\n",
            "ERROR:__main__:Exception on / [GET]\n",
            "Traceback (most recent call last):\n",
            "  File \"/usr/local/lib/python3.10/dist-packages/flask/app.py\", line 1455, in wsgi_app\n",
            "    response = self.full_dispatch_request()\n",
            "  File \"/usr/local/lib/python3.10/dist-packages/flask/app.py\", line 869, in full_dispatch_request\n",
            "    rv = self.handle_user_exception(e)\n",
            "  File \"/usr/local/lib/python3.10/dist-packages/flask/app.py\", line 867, in full_dispatch_request\n",
            "    rv = self.dispatch_request()\n",
            "  File \"/usr/local/lib/python3.10/dist-packages/flask/app.py\", line 852, in dispatch_request\n",
            "    return self.ensure_sync(self.view_functions[rule.endpoint])(**view_args)\n",
            "  File \"<ipython-input-23-7af591fabbb4>\", line 10, in hello\n",
            "    response = identify(data)\n",
            "  File \"<ipython-input-19-78f539e0d4e5>\", line 10, in identify\n",
            "    target = best_clf.predict([image_data])[0]\n",
            "  File \"/usr/local/lib/python3.10/dist-packages/sklearn/pipeline.py\", line 480, in predict\n",
            "    Xt = transform.transform(Xt)\n",
            "  File \"/usr/local/lib/python3.10/dist-packages/sklearn/utils/_set_output.py\", line 140, in wrapped\n",
            "    data_to_wrap = f(self, X, *args, **kwargs)\n",
            "  File \"/usr/local/lib/python3.10/dist-packages/sklearn/decomposition/_base.py\", line 120, in transform\n",
            "    X = self._validate_data(X, dtype=[np.float64, np.float32], reset=False)\n",
            "  File \"/usr/local/lib/python3.10/dist-packages/sklearn/base.py\", line 565, in _validate_data\n",
            "    X = check_array(X, input_name=\"X\", **check_params)\n",
            "  File \"/usr/local/lib/python3.10/dist-packages/sklearn/utils/validation.py\", line 902, in check_array\n",
            "    raise ValueError(\n",
            "ValueError: Expected 2D array, got 1D array instead:\n",
            "array=[nan].\n",
            "Reshape your data either using array.reshape(-1, 1) if your data has a single feature or array.reshape(1, -1) if it contains a single sample.\n",
            "INFO:werkzeug:127.0.0.1 - - [29/Apr/2024 12:30:17] \"\u001b[35m\u001b[1mGET /?image_url=https://projects.rolandoandrade.me/identity/Schoed.png HTTP/1.1\u001b[0m\" 500 -\n"
          ]
        },
        {
          "name": "stdout",
          "output_type": "stream",
          "text": [
            "Failed to download the image. 404\n",
            "Failed to download the image. 404\n"
          ]
        },
        {
          "name": "stderr",
          "output_type": "stream",
          "text": [
            "ERROR:__main__:Exception on / [GET]\n",
            "Traceback (most recent call last):\n",
            "  File \"/usr/local/lib/python3.10/dist-packages/flask/app.py\", line 1455, in wsgi_app\n",
            "    response = self.full_dispatch_request()\n",
            "  File \"/usr/local/lib/python3.10/dist-packages/flask/app.py\", line 869, in full_dispatch_request\n",
            "    rv = self.handle_user_exception(e)\n",
            "  File \"/usr/local/lib/python3.10/dist-packages/flask/app.py\", line 867, in full_dispatch_request\n",
            "    rv = self.dispatch_request()\n",
            "  File \"/usr/local/lib/python3.10/dist-packages/flask/app.py\", line 852, in dispatch_request\n",
            "    return self.ensure_sync(self.view_functions[rule.endpoint])(**view_args)\n",
            "  File \"<ipython-input-23-7af591fabbb4>\", line 10, in hello\n",
            "    response = identify(data)\n",
            "  File \"<ipython-input-19-78f539e0d4e5>\", line 10, in identify\n",
            "    target = best_clf.predict([image_data])[0]\n",
            "  File \"/usr/local/lib/python3.10/dist-packages/sklearn/pipeline.py\", line 480, in predict\n",
            "    Xt = transform.transform(Xt)\n",
            "  File \"/usr/local/lib/python3.10/dist-packages/sklearn/utils/_set_output.py\", line 140, in wrapped\n",
            "    data_to_wrap = f(self, X, *args, **kwargs)\n",
            "  File \"/usr/local/lib/python3.10/dist-packages/sklearn/decomposition/_base.py\", line 120, in transform\n",
            "    X = self._validate_data(X, dtype=[np.float64, np.float32], reset=False)\n",
            "  File \"/usr/local/lib/python3.10/dist-packages/sklearn/base.py\", line 565, in _validate_data\n",
            "    X = check_array(X, input_name=\"X\", **check_params)\n",
            "  File \"/usr/local/lib/python3.10/dist-packages/sklearn/utils/validation.py\", line 902, in check_array\n",
            "    raise ValueError(\n",
            "ValueError: Expected 2D array, got 1D array instead:\n",
            "array=[nan].\n",
            "Reshape your data either using array.reshape(-1, 1) if your data has a single feature or array.reshape(1, -1) if it contains a single sample.\n",
            "INFO:werkzeug:127.0.0.1 - - [29/Apr/2024 12:30:17] \"\u001b[35m\u001b[1mGET /?image_url=https://projects.rolandoandrade.me/identity/Schoe.png HTTP/1.1\u001b[0m\" 500 -\n"
          ]
        },
        {
          "name": "stdout",
          "output_type": "stream",
          "text": [
            "Failed to download the image. 404\n"
          ]
        },
        {
          "name": "stderr",
          "output_type": "stream",
          "text": [
            "ERROR:__main__:Exception on / [GET]\n",
            "Traceback (most recent call last):\n",
            "  File \"/usr/local/lib/python3.10/dist-packages/flask/app.py\", line 1455, in wsgi_app\n",
            "    response = self.full_dispatch_request()\n",
            "  File \"/usr/local/lib/python3.10/dist-packages/flask/app.py\", line 869, in full_dispatch_request\n",
            "    rv = self.handle_user_exception(e)\n",
            "  File \"/usr/local/lib/python3.10/dist-packages/flask/app.py\", line 867, in full_dispatch_request\n",
            "    rv = self.dispatch_request()\n",
            "  File \"/usr/local/lib/python3.10/dist-packages/flask/app.py\", line 852, in dispatch_request\n",
            "    return self.ensure_sync(self.view_functions[rule.endpoint])(**view_args)\n",
            "  File \"<ipython-input-23-7af591fabbb4>\", line 10, in hello\n",
            "    response = identify(data)\n",
            "  File \"<ipython-input-19-78f539e0d4e5>\", line 10, in identify\n",
            "    target = best_clf.predict([image_data])[0]\n",
            "  File \"/usr/local/lib/python3.10/dist-packages/sklearn/pipeline.py\", line 480, in predict\n",
            "    Xt = transform.transform(Xt)\n",
            "  File \"/usr/local/lib/python3.10/dist-packages/sklearn/utils/_set_output.py\", line 140, in wrapped\n",
            "    data_to_wrap = f(self, X, *args, **kwargs)\n",
            "  File \"/usr/local/lib/python3.10/dist-packages/sklearn/decomposition/_base.py\", line 120, in transform\n",
            "    X = self._validate_data(X, dtype=[np.float64, np.float32], reset=False)\n",
            "  File \"/usr/local/lib/python3.10/dist-packages/sklearn/base.py\", line 565, in _validate_data\n",
            "    X = check_array(X, input_name=\"X\", **check_params)\n",
            "  File \"/usr/local/lib/python3.10/dist-packages/sklearn/utils/validation.py\", line 902, in check_array\n",
            "    raise ValueError(\n",
            "ValueError: Expected 2D array, got 1D array instead:\n",
            "array=[nan].\n",
            "Reshape your data either using array.reshape(-1, 1) if your data has a single feature or array.reshape(1, -1) if it contains a single sample.\n",
            "INFO:werkzeug:127.0.0.1 - - [29/Apr/2024 12:30:17] \"\u001b[35m\u001b[1mGET /?image_url=https://projects.rolandoandrade.me/identity/Scho.png HTTP/1.1\u001b[0m\" 500 -\n"
          ]
        },
        {
          "name": "stdout",
          "output_type": "stream",
          "text": [
            "Failed to download the image. 404\n"
          ]
        },
        {
          "name": "stderr",
          "output_type": "stream",
          "text": [
            "ERROR:__main__:Exception on / [GET]\n",
            "Traceback (most recent call last):\n",
            "  File \"/usr/local/lib/python3.10/dist-packages/flask/app.py\", line 1455, in wsgi_app\n",
            "    response = self.full_dispatch_request()\n",
            "  File \"/usr/local/lib/python3.10/dist-packages/flask/app.py\", line 869, in full_dispatch_request\n",
            "    rv = self.handle_user_exception(e)\n",
            "  File \"/usr/local/lib/python3.10/dist-packages/flask/app.py\", line 867, in full_dispatch_request\n",
            "    rv = self.dispatch_request()\n",
            "  File \"/usr/local/lib/python3.10/dist-packages/flask/app.py\", line 852, in dispatch_request\n",
            "    return self.ensure_sync(self.view_functions[rule.endpoint])(**view_args)\n",
            "  File \"<ipython-input-23-7af591fabbb4>\", line 10, in hello\n",
            "    response = identify(data)\n",
            "  File \"<ipython-input-19-78f539e0d4e5>\", line 10, in identify\n",
            "    target = best_clf.predict([image_data])[0]\n",
            "  File \"/usr/local/lib/python3.10/dist-packages/sklearn/pipeline.py\", line 480, in predict\n",
            "    Xt = transform.transform(Xt)\n",
            "  File \"/usr/local/lib/python3.10/dist-packages/sklearn/utils/_set_output.py\", line 140, in wrapped\n",
            "    data_to_wrap = f(self, X, *args, **kwargs)\n",
            "  File \"/usr/local/lib/python3.10/dist-packages/sklearn/decomposition/_base.py\", line 120, in transform\n",
            "    X = self._validate_data(X, dtype=[np.float64, np.float32], reset=False)\n",
            "  File \"/usr/local/lib/python3.10/dist-packages/sklearn/base.py\", line 565, in _validate_data\n",
            "    X = check_array(X, input_name=\"X\", **check_params)\n",
            "  File \"/usr/local/lib/python3.10/dist-packages/sklearn/utils/validation.py\", line 902, in check_array\n",
            "    raise ValueError(\n",
            "ValueError: Expected 2D array, got 1D array instead:\n",
            "array=[nan].\n",
            "Reshape your data either using array.reshape(-1, 1) if your data has a single feature or array.reshape(1, -1) if it contains a single sample.\n",
            "INFO:werkzeug:127.0.0.1 - - [29/Apr/2024 12:30:18] \"\u001b[35m\u001b[1mGET /?image_url=https://projects.rolandoandrade.me/identity/Schod.png HTTP/1.1\u001b[0m\" 500 -\n",
            "ERROR:__main__:Exception on / [GET]\n",
            "Traceback (most recent call last):\n",
            "  File \"/usr/local/lib/python3.10/dist-packages/flask/app.py\", line 1455, in wsgi_app\n",
            "    response = self.full_dispatch_request()\n",
            "  File \"/usr/local/lib/python3.10/dist-packages/flask/app.py\", line 869, in full_dispatch_request\n",
            "    rv = self.handle_user_exception(e)\n",
            "  File \"/usr/local/lib/python3.10/dist-packages/flask/app.py\", line 867, in full_dispatch_request\n",
            "    rv = self.dispatch_request()\n",
            "  File \"/usr/local/lib/python3.10/dist-packages/flask/app.py\", line 852, in dispatch_request\n",
            "    return self.ensure_sync(self.view_functions[rule.endpoint])(**view_args)\n",
            "  File \"<ipython-input-23-7af591fabbb4>\", line 10, in hello\n",
            "    response = identify(data)\n",
            "  File \"<ipython-input-19-78f539e0d4e5>\", line 10, in identify\n",
            "    target = best_clf.predict([image_data])[0]\n",
            "  File \"/usr/local/lib/python3.10/dist-packages/sklearn/pipeline.py\", line 480, in predict\n",
            "    Xt = transform.transform(Xt)\n",
            "  File \"/usr/local/lib/python3.10/dist-packages/sklearn/utils/_set_output.py\", line 140, in wrapped\n",
            "    data_to_wrap = f(self, X, *args, **kwargs)\n",
            "  File \"/usr/local/lib/python3.10/dist-packages/sklearn/decomposition/_base.py\", line 120, in transform\n",
            "    X = self._validate_data(X, dtype=[np.float64, np.float32], reset=False)\n",
            "  File \"/usr/local/lib/python3.10/dist-packages/sklearn/base.py\", line 565, in _validate_data\n",
            "    X = check_array(X, input_name=\"X\", **check_params)\n",
            "  File \"/usr/local/lib/python3.10/dist-packages/sklearn/utils/validation.py\", line 902, in check_array\n",
            "    raise ValueError(\n",
            "ValueError: Expected 2D array, got 1D array instead:\n",
            "array=[nan].\n",
            "Reshape your data either using array.reshape(-1, 1) if your data has a single feature or array.reshape(1, -1) if it contains a single sample.\n",
            "INFO:werkzeug:127.0.0.1 - - [29/Apr/2024 12:30:18] \"\u001b[35m\u001b[1mGET /?image_url=https://projects.rolandoandrade.me/identity/Schode.png HTTP/1.1\u001b[0m\" 500 -\n"
          ]
        },
        {
          "name": "stdout",
          "output_type": "stream",
          "text": [
            "Failed to download the image. 404\n",
            "Failed to download the image. 404\n"
          ]
        },
        {
          "name": "stderr",
          "output_type": "stream",
          "text": [
            "ERROR:__main__:Exception on / [GET]\n",
            "Traceback (most recent call last):\n",
            "  File \"/usr/local/lib/python3.10/dist-packages/flask/app.py\", line 1455, in wsgi_app\n",
            "    response = self.full_dispatch_request()\n",
            "  File \"/usr/local/lib/python3.10/dist-packages/flask/app.py\", line 869, in full_dispatch_request\n",
            "    rv = self.handle_user_exception(e)\n",
            "  File \"/usr/local/lib/python3.10/dist-packages/flask/app.py\", line 867, in full_dispatch_request\n",
            "    rv = self.dispatch_request()\n",
            "  File \"/usr/local/lib/python3.10/dist-packages/flask/app.py\", line 852, in dispatch_request\n",
            "    return self.ensure_sync(self.view_functions[rule.endpoint])(**view_args)\n",
            "  File \"<ipython-input-23-7af591fabbb4>\", line 10, in hello\n",
            "    response = identify(data)\n",
            "  File \"<ipython-input-19-78f539e0d4e5>\", line 10, in identify\n",
            "    target = best_clf.predict([image_data])[0]\n",
            "  File \"/usr/local/lib/python3.10/dist-packages/sklearn/pipeline.py\", line 480, in predict\n",
            "    Xt = transform.transform(Xt)\n",
            "  File \"/usr/local/lib/python3.10/dist-packages/sklearn/utils/_set_output.py\", line 140, in wrapped\n",
            "    data_to_wrap = f(self, X, *args, **kwargs)\n",
            "  File \"/usr/local/lib/python3.10/dist-packages/sklearn/decomposition/_base.py\", line 120, in transform\n",
            "    X = self._validate_data(X, dtype=[np.float64, np.float32], reset=False)\n",
            "  File \"/usr/local/lib/python3.10/dist-packages/sklearn/base.py\", line 565, in _validate_data\n",
            "    X = check_array(X, input_name=\"X\", **check_params)\n",
            "  File \"/usr/local/lib/python3.10/dist-packages/sklearn/utils/validation.py\", line 902, in check_array\n",
            "    raise ValueError(\n",
            "ValueError: Expected 2D array, got 1D array instead:\n",
            "array=[nan].\n",
            "Reshape your data either using array.reshape(-1, 1) if your data has a single feature or array.reshape(1, -1) if it contains a single sample.\n",
            "INFO:werkzeug:127.0.0.1 - - [29/Apr/2024 12:30:18] \"\u001b[35m\u001b[1mGET /?image_url=https://projects.rolandoandrade.me/identity/Schoder.png HTTP/1.1\u001b[0m\" 500 -\n"
          ]
        },
        {
          "name": "stdout",
          "output_type": "stream",
          "text": [
            "Failed to download the image. 404\n"
          ]
        },
        {
          "name": "stderr",
          "output_type": "stream",
          "text": [
            "ERROR:__main__:Exception on / [GET]\n",
            "Traceback (most recent call last):\n",
            "  File \"/usr/local/lib/python3.10/dist-packages/flask/app.py\", line 1455, in wsgi_app\n",
            "    response = self.full_dispatch_request()\n",
            "  File \"/usr/local/lib/python3.10/dist-packages/flask/app.py\", line 869, in full_dispatch_request\n",
            "    rv = self.handle_user_exception(e)\n",
            "  File \"/usr/local/lib/python3.10/dist-packages/flask/app.py\", line 867, in full_dispatch_request\n",
            "    rv = self.dispatch_request()\n",
            "  File \"/usr/local/lib/python3.10/dist-packages/flask/app.py\", line 852, in dispatch_request\n",
            "    return self.ensure_sync(self.view_functions[rule.endpoint])(**view_args)\n",
            "  File \"<ipython-input-23-7af591fabbb4>\", line 10, in hello\n",
            "    response = identify(data)\n",
            "  File \"<ipython-input-19-78f539e0d4e5>\", line 10, in identify\n",
            "    target = best_clf.predict([image_data])[0]\n",
            "  File \"/usr/local/lib/python3.10/dist-packages/sklearn/pipeline.py\", line 480, in predict\n",
            "    Xt = transform.transform(Xt)\n",
            "  File \"/usr/local/lib/python3.10/dist-packages/sklearn/utils/_set_output.py\", line 140, in wrapped\n",
            "    data_to_wrap = f(self, X, *args, **kwargs)\n",
            "  File \"/usr/local/lib/python3.10/dist-packages/sklearn/decomposition/_base.py\", line 120, in transform\n",
            "    X = self._validate_data(X, dtype=[np.float64, np.float32], reset=False)\n",
            "  File \"/usr/local/lib/python3.10/dist-packages/sklearn/base.py\", line 565, in _validate_data\n",
            "    X = check_array(X, input_name=\"X\", **check_params)\n",
            "  File \"/usr/local/lib/python3.10/dist-packages/sklearn/utils/validation.py\", line 902, in check_array\n",
            "    raise ValueError(\n",
            "ValueError: Expected 2D array, got 1D array instead:\n",
            "array=[nan].\n",
            "Reshape your data either using array.reshape(-1, 1) if your data has a single feature or array.reshape(1, -1) if it contains a single sample.\n",
            "INFO:werkzeug:127.0.0.1 - - [29/Apr/2024 12:30:19] \"\u001b[35m\u001b[1mGET /?image_url=https://projects.rolandoandrade.me/identity/Schode.png HTTP/1.1\u001b[0m\" 500 -\n",
            "ERROR:__main__:Exception on / [GET]\n",
            "Traceback (most recent call last):\n",
            "  File \"/usr/local/lib/python3.10/dist-packages/flask/app.py\", line 1455, in wsgi_app\n",
            "    response = self.full_dispatch_request()\n",
            "  File \"/usr/local/lib/python3.10/dist-packages/flask/app.py\", line 869, in full_dispatch_request\n",
            "    rv = self.handle_user_exception(e)\n",
            "  File \"/usr/local/lib/python3.10/dist-packages/flask/app.py\", line 867, in full_dispatch_request\n",
            "    rv = self.dispatch_request()\n",
            "  File \"/usr/local/lib/python3.10/dist-packages/flask/app.py\", line 852, in dispatch_request\n",
            "    return self.ensure_sync(self.view_functions[rule.endpoint])(**view_args)\n",
            "  File \"<ipython-input-23-7af591fabbb4>\", line 10, in hello\n",
            "    response = identify(data)\n",
            "  File \"<ipython-input-19-78f539e0d4e5>\", line 10, in identify\n",
            "    target = best_clf.predict([image_data])[0]\n",
            "  File \"/usr/local/lib/python3.10/dist-packages/sklearn/pipeline.py\", line 480, in predict\n",
            "    Xt = transform.transform(Xt)\n",
            "  File \"/usr/local/lib/python3.10/dist-packages/sklearn/utils/_set_output.py\", line 140, in wrapped\n",
            "    data_to_wrap = f(self, X, *args, **kwargs)\n",
            "  File \"/usr/local/lib/python3.10/dist-packages/sklearn/decomposition/_base.py\", line 120, in transform\n",
            "    X = self._validate_data(X, dtype=[np.float64, np.float32], reset=False)\n",
            "  File \"/usr/local/lib/python3.10/dist-packages/sklearn/base.py\", line 565, in _validate_data\n",
            "    X = check_array(X, input_name=\"X\", **check_params)\n",
            "  File \"/usr/local/lib/python3.10/dist-packages/sklearn/utils/validation.py\", line 902, in check_array\n",
            "    raise ValueError(\n",
            "ValueError: Expected 2D array, got 1D array instead:\n",
            "array=[nan].\n",
            "Reshape your data either using array.reshape(-1, 1) if your data has a single feature or array.reshape(1, -1) if it contains a single sample.\n",
            "INFO:werkzeug:127.0.0.1 - - [29/Apr/2024 12:30:19] \"\u001b[35m\u001b[1mGET /?image_url=https://projects.rolandoandrade.me/identity/Schod.png HTTP/1.1\u001b[0m\" 500 -\n"
          ]
        },
        {
          "name": "stdout",
          "output_type": "stream",
          "text": [
            "Failed to download the image. 404\n",
            "Failed to download the image. 404\n"
          ]
        },
        {
          "name": "stderr",
          "output_type": "stream",
          "text": [
            "ERROR:__main__:Exception on / [GET]\n",
            "Traceback (most recent call last):\n",
            "  File \"/usr/local/lib/python3.10/dist-packages/flask/app.py\", line 1455, in wsgi_app\n",
            "    response = self.full_dispatch_request()\n",
            "  File \"/usr/local/lib/python3.10/dist-packages/flask/app.py\", line 869, in full_dispatch_request\n",
            "    rv = self.handle_user_exception(e)\n",
            "  File \"/usr/local/lib/python3.10/dist-packages/flask/app.py\", line 867, in full_dispatch_request\n",
            "    rv = self.dispatch_request()\n",
            "  File \"/usr/local/lib/python3.10/dist-packages/flask/app.py\", line 852, in dispatch_request\n",
            "    return self.ensure_sync(self.view_functions[rule.endpoint])(**view_args)\n",
            "  File \"<ipython-input-23-7af591fabbb4>\", line 10, in hello\n",
            "    response = identify(data)\n",
            "  File \"<ipython-input-19-78f539e0d4e5>\", line 10, in identify\n",
            "    target = best_clf.predict([image_data])[0]\n",
            "  File \"/usr/local/lib/python3.10/dist-packages/sklearn/pipeline.py\", line 480, in predict\n",
            "    Xt = transform.transform(Xt)\n",
            "  File \"/usr/local/lib/python3.10/dist-packages/sklearn/utils/_set_output.py\", line 140, in wrapped\n",
            "    data_to_wrap = f(self, X, *args, **kwargs)\n",
            "  File \"/usr/local/lib/python3.10/dist-packages/sklearn/decomposition/_base.py\", line 120, in transform\n",
            "    X = self._validate_data(X, dtype=[np.float64, np.float32], reset=False)\n",
            "  File \"/usr/local/lib/python3.10/dist-packages/sklearn/base.py\", line 565, in _validate_data\n",
            "    X = check_array(X, input_name=\"X\", **check_params)\n",
            "  File \"/usr/local/lib/python3.10/dist-packages/sklearn/utils/validation.py\", line 902, in check_array\n",
            "    raise ValueError(\n",
            "ValueError: Expected 2D array, got 1D array instead:\n",
            "array=[nan].\n",
            "Reshape your data either using array.reshape(-1, 1) if your data has a single feature or array.reshape(1, -1) if it contains a single sample.\n",
            "INFO:werkzeug:127.0.0.1 - - [29/Apr/2024 12:30:20] \"\u001b[35m\u001b[1mGET /?image_url=https://projects.rolandoandrade.me/identity/Scho.png HTTP/1.1\u001b[0m\" 500 -\n"
          ]
        },
        {
          "name": "stdout",
          "output_type": "stream",
          "text": [
            "Failed to download the image. 404\n"
          ]
        },
        {
          "name": "stderr",
          "output_type": "stream",
          "text": [
            "INFO:werkzeug:127.0.0.1 - - [29/Apr/2024 12:30:28] \"GET /?image_url=https://projects.rolandoandrade.me/identity/Schroeder.png HTTP/1.1\" 200 -\n",
            "INFO:werkzeug:127.0.0.1 - - [29/Apr/2024 12:30:35] \"GET /?image_url=https://projects.rolandoandrade.me/identity/Rumsfeld.png HTTP/1.1\" 200 -\n",
            "ERROR:__main__:Exception on / [GET]\n",
            "Traceback (most recent call last):\n",
            "  File \"/usr/local/lib/python3.10/dist-packages/flask/app.py\", line 1455, in wsgi_app\n",
            "    response = self.full_dispatch_request()\n",
            "  File \"/usr/local/lib/python3.10/dist-packages/flask/app.py\", line 869, in full_dispatch_request\n",
            "    rv = self.handle_user_exception(e)\n",
            "  File \"/usr/local/lib/python3.10/dist-packages/flask/app.py\", line 867, in full_dispatch_request\n",
            "    rv = self.dispatch_request()\n",
            "  File \"/usr/local/lib/python3.10/dist-packages/flask/app.py\", line 852, in dispatch_request\n",
            "    return self.ensure_sync(self.view_functions[rule.endpoint])(**view_args)\n",
            "  File \"<ipython-input-23-7af591fabbb4>\", line 10, in hello\n",
            "    response = identify(data)\n",
            "  File \"<ipython-input-19-78f539e0d4e5>\", line 10, in identify\n",
            "    target = best_clf.predict([image_data])[0]\n",
            "  File \"/usr/local/lib/python3.10/dist-packages/sklearn/pipeline.py\", line 480, in predict\n",
            "    Xt = transform.transform(Xt)\n",
            "  File \"/usr/local/lib/python3.10/dist-packages/sklearn/utils/_set_output.py\", line 140, in wrapped\n",
            "    data_to_wrap = f(self, X, *args, **kwargs)\n",
            "  File \"/usr/local/lib/python3.10/dist-packages/sklearn/decomposition/_base.py\", line 120, in transform\n",
            "    X = self._validate_data(X, dtype=[np.float64, np.float32], reset=False)\n",
            "  File \"/usr/local/lib/python3.10/dist-packages/sklearn/base.py\", line 565, in _validate_data\n",
            "    X = check_array(X, input_name=\"X\", **check_params)\n",
            "  File \"/usr/local/lib/python3.10/dist-packages/sklearn/utils/validation.py\", line 902, in check_array\n",
            "    raise ValueError(\n",
            "ValueError: Expected 2D array, got 1D array instead:\n",
            "array=[nan].\n",
            "Reshape your data either using array.reshape(-1, 1) if your data has a single feature or array.reshape(1, -1) if it contains a single sample.\n",
            "INFO:werkzeug:127.0.0.1 - - [29/Apr/2024 12:30:45] \"\u001b[35m\u001b[1mGET /?image_url=https://projects.rolandoandrade.me/identity/B.png HTTP/1.1\u001b[0m\" 500 -\n"
          ]
        },
        {
          "name": "stdout",
          "output_type": "stream",
          "text": [
            "Failed to download the image. 404\n"
          ]
        },
        {
          "name": "stderr",
          "output_type": "stream",
          "text": [
            "ERROR:__main__:Exception on / [GET]\n",
            "Traceback (most recent call last):\n",
            "  File \"/usr/local/lib/python3.10/dist-packages/flask/app.py\", line 1455, in wsgi_app\n",
            "    response = self.full_dispatch_request()\n",
            "  File \"/usr/local/lib/python3.10/dist-packages/flask/app.py\", line 869, in full_dispatch_request\n",
            "    rv = self.handle_user_exception(e)\n",
            "  File \"/usr/local/lib/python3.10/dist-packages/flask/app.py\", line 867, in full_dispatch_request\n",
            "    rv = self.dispatch_request()\n",
            "  File \"/usr/local/lib/python3.10/dist-packages/flask/app.py\", line 852, in dispatch_request\n",
            "    return self.ensure_sync(self.view_functions[rule.endpoint])(**view_args)\n",
            "  File \"<ipython-input-23-7af591fabbb4>\", line 10, in hello\n",
            "    response = identify(data)\n",
            "  File \"<ipython-input-19-78f539e0d4e5>\", line 10, in identify\n",
            "    target = best_clf.predict([image_data])[0]\n",
            "  File \"/usr/local/lib/python3.10/dist-packages/sklearn/pipeline.py\", line 480, in predict\n",
            "    Xt = transform.transform(Xt)\n",
            "  File \"/usr/local/lib/python3.10/dist-packages/sklearn/utils/_set_output.py\", line 140, in wrapped\n",
            "    data_to_wrap = f(self, X, *args, **kwargs)\n",
            "  File \"/usr/local/lib/python3.10/dist-packages/sklearn/decomposition/_base.py\", line 120, in transform\n",
            "    X = self._validate_data(X, dtype=[np.float64, np.float32], reset=False)\n",
            "  File \"/usr/local/lib/python3.10/dist-packages/sklearn/base.py\", line 565, in _validate_data\n",
            "    X = check_array(X, input_name=\"X\", **check_params)\n",
            "  File \"/usr/local/lib/python3.10/dist-packages/sklearn/utils/validation.py\", line 902, in check_array\n",
            "    raise ValueError(\n",
            "ValueError: Expected 2D array, got 1D array instead:\n",
            "array=[nan].\n",
            "Reshape your data either using array.reshape(-1, 1) if your data has a single feature or array.reshape(1, -1) if it contains a single sample.\n",
            "INFO:werkzeug:127.0.0.1 - - [29/Apr/2024 12:30:46] \"\u001b[35m\u001b[1mGET /?image_url=https://projects.rolandoandrade.me/identity/Bs.png HTTP/1.1\u001b[0m\" 500 -\n",
            "ERROR:__main__:Exception on / [GET]\n",
            "Traceback (most recent call last):\n",
            "  File \"/usr/local/lib/python3.10/dist-packages/flask/app.py\", line 1455, in wsgi_app\n",
            "    response = self.full_dispatch_request()\n",
            "  File \"/usr/local/lib/python3.10/dist-packages/flask/app.py\", line 869, in full_dispatch_request\n",
            "    rv = self.handle_user_exception(e)\n",
            "  File \"/usr/local/lib/python3.10/dist-packages/flask/app.py\", line 867, in full_dispatch_request\n",
            "    rv = self.dispatch_request()\n",
            "  File \"/usr/local/lib/python3.10/dist-packages/flask/app.py\", line 852, in dispatch_request\n",
            "    return self.ensure_sync(self.view_functions[rule.endpoint])(**view_args)\n",
            "  File \"<ipython-input-23-7af591fabbb4>\", line 10, in hello\n",
            "    response = identify(data)\n",
            "  File \"<ipython-input-19-78f539e0d4e5>\", line 10, in identify\n",
            "    target = best_clf.predict([image_data])[0]\n",
            "  File \"/usr/local/lib/python3.10/dist-packages/sklearn/pipeline.py\", line 480, in predict\n",
            "    Xt = transform.transform(Xt)\n",
            "  File \"/usr/local/lib/python3.10/dist-packages/sklearn/utils/_set_output.py\", line 140, in wrapped\n",
            "    data_to_wrap = f(self, X, *args, **kwargs)\n",
            "  File \"/usr/local/lib/python3.10/dist-packages/sklearn/decomposition/_base.py\", line 120, in transform\n",
            "    X = self._validate_data(X, dtype=[np.float64, np.float32], reset=False)\n",
            "  File \"/usr/local/lib/python3.10/dist-packages/sklearn/base.py\", line 565, in _validate_data\n",
            "    X = check_array(X, input_name=\"X\", **check_params)\n",
            "  File \"/usr/local/lib/python3.10/dist-packages/sklearn/utils/validation.py\", line 902, in check_array\n",
            "    raise ValueError(\n",
            "ValueError: Expected 2D array, got 1D array instead:\n",
            "array=[nan].\n",
            "Reshape your data either using array.reshape(-1, 1) if your data has a single feature or array.reshape(1, -1) if it contains a single sample.\n",
            "INFO:werkzeug:127.0.0.1 - - [29/Apr/2024 12:30:46] \"\u001b[35m\u001b[1mGET /?image_url=https://projects.rolandoandrade.me/identity/Bsu.png HTTP/1.1\u001b[0m\" 500 -\n"
          ]
        },
        {
          "name": "stdout",
          "output_type": "stream",
          "text": [
            "Failed to download the image. 404\n",
            "Failed to download the image. 404\n"
          ]
        },
        {
          "name": "stderr",
          "output_type": "stream",
          "text": [
            "ERROR:__main__:Exception on / [GET]\n",
            "Traceback (most recent call last):\n",
            "  File \"/usr/local/lib/python3.10/dist-packages/flask/app.py\", line 1455, in wsgi_app\n",
            "    response = self.full_dispatch_request()\n",
            "  File \"/usr/local/lib/python3.10/dist-packages/flask/app.py\", line 869, in full_dispatch_request\n",
            "    rv = self.handle_user_exception(e)\n",
            "  File \"/usr/local/lib/python3.10/dist-packages/flask/app.py\", line 867, in full_dispatch_request\n",
            "    rv = self.dispatch_request()\n",
            "  File \"/usr/local/lib/python3.10/dist-packages/flask/app.py\", line 852, in dispatch_request\n",
            "    return self.ensure_sync(self.view_functions[rule.endpoint])(**view_args)\n",
            "  File \"<ipython-input-23-7af591fabbb4>\", line 10, in hello\n",
            "    response = identify(data)\n",
            "  File \"<ipython-input-19-78f539e0d4e5>\", line 10, in identify\n",
            "    target = best_clf.predict([image_data])[0]\n",
            "  File \"/usr/local/lib/python3.10/dist-packages/sklearn/pipeline.py\", line 480, in predict\n",
            "    Xt = transform.transform(Xt)\n",
            "  File \"/usr/local/lib/python3.10/dist-packages/sklearn/utils/_set_output.py\", line 140, in wrapped\n",
            "    data_to_wrap = f(self, X, *args, **kwargs)\n",
            "  File \"/usr/local/lib/python3.10/dist-packages/sklearn/decomposition/_base.py\", line 120, in transform\n",
            "    X = self._validate_data(X, dtype=[np.float64, np.float32], reset=False)\n",
            "  File \"/usr/local/lib/python3.10/dist-packages/sklearn/base.py\", line 565, in _validate_data\n",
            "    X = check_array(X, input_name=\"X\", **check_params)\n",
            "  File \"/usr/local/lib/python3.10/dist-packages/sklearn/utils/validation.py\", line 902, in check_array\n",
            "    raise ValueError(\n",
            "ValueError: Expected 2D array, got 1D array instead:\n",
            "array=[nan].\n",
            "Reshape your data either using array.reshape(-1, 1) if your data has a single feature or array.reshape(1, -1) if it contains a single sample.\n",
            "INFO:werkzeug:127.0.0.1 - - [29/Apr/2024 12:30:47] \"\u001b[35m\u001b[1mGET /?image_url=https://projects.rolandoandrade.me/identity/Bs.png HTTP/1.1\u001b[0m\" 500 -\n",
            "ERROR:__main__:Exception on / [GET]\n",
            "Traceback (most recent call last):\n",
            "  File \"/usr/local/lib/python3.10/dist-packages/flask/app.py\", line 1455, in wsgi_app\n",
            "    response = self.full_dispatch_request()\n",
            "  File \"/usr/local/lib/python3.10/dist-packages/flask/app.py\", line 869, in full_dispatch_request\n",
            "    rv = self.handle_user_exception(e)\n",
            "  File \"/usr/local/lib/python3.10/dist-packages/flask/app.py\", line 867, in full_dispatch_request\n",
            "    rv = self.dispatch_request()\n",
            "  File \"/usr/local/lib/python3.10/dist-packages/flask/app.py\", line 852, in dispatch_request\n",
            "    return self.ensure_sync(self.view_functions[rule.endpoint])(**view_args)\n",
            "  File \"<ipython-input-23-7af591fabbb4>\", line 10, in hello\n",
            "    response = identify(data)\n",
            "  File \"<ipython-input-19-78f539e0d4e5>\", line 10, in identify\n",
            "    target = best_clf.predict([image_data])[0]\n",
            "  File \"/usr/local/lib/python3.10/dist-packages/sklearn/pipeline.py\", line 480, in predict\n",
            "    Xt = transform.transform(Xt)\n",
            "  File \"/usr/local/lib/python3.10/dist-packages/sklearn/utils/_set_output.py\", line 140, in wrapped\n",
            "    data_to_wrap = f(self, X, *args, **kwargs)\n",
            "  File \"/usr/local/lib/python3.10/dist-packages/sklearn/decomposition/_base.py\", line 120, in transform\n",
            "    X = self._validate_data(X, dtype=[np.float64, np.float32], reset=False)\n",
            "  File \"/usr/local/lib/python3.10/dist-packages/sklearn/base.py\", line 565, in _validate_data\n",
            "    X = check_array(X, input_name=\"X\", **check_params)\n",
            "  File \"/usr/local/lib/python3.10/dist-packages/sklearn/utils/validation.py\", line 902, in check_array\n",
            "    raise ValueError(\n",
            "ValueError: Expected 2D array, got 1D array instead:\n",
            "array=[nan].\n",
            "Reshape your data either using array.reshape(-1, 1) if your data has a single feature or array.reshape(1, -1) if it contains a single sample.\n",
            "INFO:werkzeug:127.0.0.1 - - [29/Apr/2024 12:30:47] \"\u001b[35m\u001b[1mGET /?image_url=https://projects.rolandoandrade.me/identity/B.png HTTP/1.1\u001b[0m\" 500 -\n"
          ]
        },
        {
          "name": "stdout",
          "output_type": "stream",
          "text": [
            "Failed to download the image. 404\n",
            "Failed to download the image. 404\n"
          ]
        },
        {
          "name": "stderr",
          "output_type": "stream",
          "text": [
            "ERROR:__main__:Exception on / [GET]\n",
            "Traceback (most recent call last):\n",
            "  File \"/usr/local/lib/python3.10/dist-packages/flask/app.py\", line 1455, in wsgi_app\n",
            "    response = self.full_dispatch_request()\n",
            "  File \"/usr/local/lib/python3.10/dist-packages/flask/app.py\", line 869, in full_dispatch_request\n",
            "    rv = self.handle_user_exception(e)\n",
            "  File \"/usr/local/lib/python3.10/dist-packages/flask/app.py\", line 867, in full_dispatch_request\n",
            "    rv = self.dispatch_request()\n",
            "  File \"/usr/local/lib/python3.10/dist-packages/flask/app.py\", line 852, in dispatch_request\n",
            "    return self.ensure_sync(self.view_functions[rule.endpoint])(**view_args)\n",
            "  File \"<ipython-input-23-7af591fabbb4>\", line 10, in hello\n",
            "    response = identify(data)\n",
            "  File \"<ipython-input-19-78f539e0d4e5>\", line 10, in identify\n",
            "    target = best_clf.predict([image_data])[0]\n",
            "  File \"/usr/local/lib/python3.10/dist-packages/sklearn/pipeline.py\", line 480, in predict\n",
            "    Xt = transform.transform(Xt)\n",
            "  File \"/usr/local/lib/python3.10/dist-packages/sklearn/utils/_set_output.py\", line 140, in wrapped\n",
            "    data_to_wrap = f(self, X, *args, **kwargs)\n",
            "  File \"/usr/local/lib/python3.10/dist-packages/sklearn/decomposition/_base.py\", line 120, in transform\n",
            "    X = self._validate_data(X, dtype=[np.float64, np.float32], reset=False)\n",
            "  File \"/usr/local/lib/python3.10/dist-packages/sklearn/base.py\", line 565, in _validate_data\n",
            "    X = check_array(X, input_name=\"X\", **check_params)\n",
            "  File \"/usr/local/lib/python3.10/dist-packages/sklearn/utils/validation.py\", line 902, in check_array\n",
            "    raise ValueError(\n",
            "ValueError: Expected 2D array, got 1D array instead:\n",
            "array=[nan].\n",
            "Reshape your data either using array.reshape(-1, 1) if your data has a single feature or array.reshape(1, -1) if it contains a single sample.\n",
            "INFO:werkzeug:127.0.0.1 - - [29/Apr/2024 12:30:47] \"\u001b[35m\u001b[1mGET /?image_url=https://projects.rolandoandrade.me/identity/Bu.png HTTP/1.1\u001b[0m\" 500 -\n",
            "ERROR:__main__:Exception on / [GET]\n",
            "Traceback (most recent call last):\n",
            "  File \"/usr/local/lib/python3.10/dist-packages/flask/app.py\", line 1455, in wsgi_app\n",
            "    response = self.full_dispatch_request()\n",
            "  File \"/usr/local/lib/python3.10/dist-packages/flask/app.py\", line 869, in full_dispatch_request\n",
            "    rv = self.handle_user_exception(e)\n",
            "  File \"/usr/local/lib/python3.10/dist-packages/flask/app.py\", line 867, in full_dispatch_request\n",
            "    rv = self.dispatch_request()\n",
            "  File \"/usr/local/lib/python3.10/dist-packages/flask/app.py\", line 852, in dispatch_request\n",
            "    return self.ensure_sync(self.view_functions[rule.endpoint])(**view_args)\n",
            "  File \"<ipython-input-23-7af591fabbb4>\", line 10, in hello\n",
            "    response = identify(data)\n",
            "  File \"<ipython-input-19-78f539e0d4e5>\", line 10, in identify\n",
            "    target = best_clf.predict([image_data])[0]\n",
            "  File \"/usr/local/lib/python3.10/dist-packages/sklearn/pipeline.py\", line 480, in predict\n",
            "    Xt = transform.transform(Xt)\n",
            "  File \"/usr/local/lib/python3.10/dist-packages/sklearn/utils/_set_output.py\", line 140, in wrapped\n",
            "    data_to_wrap = f(self, X, *args, **kwargs)\n",
            "  File \"/usr/local/lib/python3.10/dist-packages/sklearn/decomposition/_base.py\", line 120, in transform\n",
            "    X = self._validate_data(X, dtype=[np.float64, np.float32], reset=False)\n",
            "  File \"/usr/local/lib/python3.10/dist-packages/sklearn/base.py\", line 565, in _validate_data\n",
            "    X = check_array(X, input_name=\"X\", **check_params)\n",
            "  File \"/usr/local/lib/python3.10/dist-packages/sklearn/utils/validation.py\", line 902, in check_array\n",
            "    raise ValueError(\n",
            "ValueError: Expected 2D array, got 1D array instead:\n",
            "array=[nan].\n",
            "Reshape your data either using array.reshape(-1, 1) if your data has a single feature or array.reshape(1, -1) if it contains a single sample.\n",
            "INFO:werkzeug:127.0.0.1 - - [29/Apr/2024 12:30:47] \"\u001b[35m\u001b[1mGET /?image_url=https://projects.rolandoandrade.me/identity/Bus.png HTTP/1.1\u001b[0m\" 500 -\n"
          ]
        },
        {
          "name": "stdout",
          "output_type": "stream",
          "text": [
            "Failed to download the image. 404\n",
            "Failed to download the image. 404\n"
          ]
        },
        {
          "name": "stderr",
          "output_type": "stream",
          "text": [
            "ERROR:__main__:Exception on / [GET]\n",
            "Traceback (most recent call last):\n",
            "  File \"/usr/local/lib/python3.10/dist-packages/flask/app.py\", line 1455, in wsgi_app\n",
            "    response = self.full_dispatch_request()\n",
            "  File \"/usr/local/lib/python3.10/dist-packages/flask/app.py\", line 869, in full_dispatch_request\n",
            "    rv = self.handle_user_exception(e)\n",
            "  File \"/usr/local/lib/python3.10/dist-packages/flask/app.py\", line 867, in full_dispatch_request\n",
            "    rv = self.dispatch_request()\n",
            "  File \"/usr/local/lib/python3.10/dist-packages/flask/app.py\", line 852, in dispatch_request\n",
            "    return self.ensure_sync(self.view_functions[rule.endpoint])(**view_args)\n",
            "  File \"<ipython-input-23-7af591fabbb4>\", line 10, in hello\n",
            "    response = identify(data)\n",
            "  File \"<ipython-input-19-78f539e0d4e5>\", line 10, in identify\n",
            "    target = best_clf.predict([image_data])[0]\n",
            "  File \"/usr/local/lib/python3.10/dist-packages/sklearn/pipeline.py\", line 480, in predict\n",
            "    Xt = transform.transform(Xt)\n",
            "  File \"/usr/local/lib/python3.10/dist-packages/sklearn/utils/_set_output.py\", line 140, in wrapped\n",
            "    data_to_wrap = f(self, X, *args, **kwargs)\n",
            "  File \"/usr/local/lib/python3.10/dist-packages/sklearn/decomposition/_base.py\", line 120, in transform\n",
            "    X = self._validate_data(X, dtype=[np.float64, np.float32], reset=False)\n",
            "  File \"/usr/local/lib/python3.10/dist-packages/sklearn/base.py\", line 565, in _validate_data\n",
            "    X = check_array(X, input_name=\"X\", **check_params)\n",
            "  File \"/usr/local/lib/python3.10/dist-packages/sklearn/utils/validation.py\", line 902, in check_array\n",
            "    raise ValueError(\n",
            "ValueError: Expected 2D array, got 1D array instead:\n",
            "array=[nan].\n",
            "Reshape your data either using array.reshape(-1, 1) if your data has a single feature or array.reshape(1, -1) if it contains a single sample.\n",
            "INFO:werkzeug:127.0.0.1 - - [29/Apr/2024 12:30:48] \"\u001b[35m\u001b[1mGET /?image_url=https://projects.rolandoandrade.me/identity/Busg.png HTTP/1.1\u001b[0m\" 500 -\n",
            "ERROR:__main__:Exception on / [GET]\n",
            "Traceback (most recent call last):\n",
            "  File \"/usr/local/lib/python3.10/dist-packages/flask/app.py\", line 1455, in wsgi_app\n",
            "    response = self.full_dispatch_request()\n",
            "  File \"/usr/local/lib/python3.10/dist-packages/flask/app.py\", line 869, in full_dispatch_request\n",
            "    rv = self.handle_user_exception(e)\n",
            "  File \"/usr/local/lib/python3.10/dist-packages/flask/app.py\", line 867, in full_dispatch_request\n",
            "    rv = self.dispatch_request()\n",
            "  File \"/usr/local/lib/python3.10/dist-packages/flask/app.py\", line 852, in dispatch_request\n",
            "    return self.ensure_sync(self.view_functions[rule.endpoint])(**view_args)\n",
            "  File \"<ipython-input-23-7af591fabbb4>\", line 10, in hello\n",
            "    response = identify(data)\n",
            "  File \"<ipython-input-19-78f539e0d4e5>\", line 10, in identify\n",
            "    target = best_clf.predict([image_data])[0]\n",
            "  File \"/usr/local/lib/python3.10/dist-packages/sklearn/pipeline.py\", line 480, in predict\n",
            "    Xt = transform.transform(Xt)\n",
            "  File \"/usr/local/lib/python3.10/dist-packages/sklearn/utils/_set_output.py\", line 140, in wrapped\n",
            "    data_to_wrap = f(self, X, *args, **kwargs)\n",
            "  File \"/usr/local/lib/python3.10/dist-packages/sklearn/decomposition/_base.py\", line 120, in transform\n",
            "    X = self._validate_data(X, dtype=[np.float64, np.float32], reset=False)\n",
            "  File \"/usr/local/lib/python3.10/dist-packages/sklearn/base.py\", line 565, in _validate_data\n",
            "    X = check_array(X, input_name=\"X\", **check_params)\n",
            "  File \"/usr/local/lib/python3.10/dist-packages/sklearn/utils/validation.py\", line 902, in check_array\n",
            "    raise ValueError(\n",
            "ValueError: Expected 2D array, got 1D array instead:\n",
            "array=[nan].\n",
            "Reshape your data either using array.reshape(-1, 1) if your data has a single feature or array.reshape(1, -1) if it contains a single sample.\n",
            "INFO:werkzeug:127.0.0.1 - - [29/Apr/2024 12:30:48] \"\u001b[35m\u001b[1mGET /?image_url=https://projects.rolandoandrade.me/identity/Busgh.png HTTP/1.1\u001b[0m\" 500 -\n"
          ]
        },
        {
          "name": "stdout",
          "output_type": "stream",
          "text": [
            "Failed to download the image. 404\n",
            "Failed to download the image. 404\n"
          ]
        },
        {
          "name": "stderr",
          "output_type": "stream",
          "text": [
            "ERROR:__main__:Exception on / [GET]\n",
            "Traceback (most recent call last):\n",
            "  File \"/usr/local/lib/python3.10/dist-packages/flask/app.py\", line 1455, in wsgi_app\n",
            "    response = self.full_dispatch_request()\n",
            "  File \"/usr/local/lib/python3.10/dist-packages/flask/app.py\", line 869, in full_dispatch_request\n",
            "    rv = self.handle_user_exception(e)\n",
            "  File \"/usr/local/lib/python3.10/dist-packages/flask/app.py\", line 867, in full_dispatch_request\n",
            "    rv = self.dispatch_request()\n",
            "  File \"/usr/local/lib/python3.10/dist-packages/flask/app.py\", line 852, in dispatch_request\n",
            "    return self.ensure_sync(self.view_functions[rule.endpoint])(**view_args)\n",
            "  File \"<ipython-input-23-7af591fabbb4>\", line 10, in hello\n",
            "    response = identify(data)\n",
            "  File \"<ipython-input-19-78f539e0d4e5>\", line 10, in identify\n",
            "    target = best_clf.predict([image_data])[0]\n",
            "  File \"/usr/local/lib/python3.10/dist-packages/sklearn/pipeline.py\", line 480, in predict\n",
            "    Xt = transform.transform(Xt)\n",
            "  File \"/usr/local/lib/python3.10/dist-packages/sklearn/utils/_set_output.py\", line 140, in wrapped\n",
            "    data_to_wrap = f(self, X, *args, **kwargs)\n",
            "  File \"/usr/local/lib/python3.10/dist-packages/sklearn/decomposition/_base.py\", line 120, in transform\n",
            "    X = self._validate_data(X, dtype=[np.float64, np.float32], reset=False)\n",
            "  File \"/usr/local/lib/python3.10/dist-packages/sklearn/base.py\", line 565, in _validate_data\n",
            "    X = check_array(X, input_name=\"X\", **check_params)\n",
            "  File \"/usr/local/lib/python3.10/dist-packages/sklearn/utils/validation.py\", line 902, in check_array\n",
            "    raise ValueError(\n",
            "ValueError: Expected 2D array, got 1D array instead:\n",
            "array=[nan].\n",
            "Reshape your data either using array.reshape(-1, 1) if your data has a single feature or array.reshape(1, -1) if it contains a single sample.\n",
            "INFO:werkzeug:127.0.0.1 - - [29/Apr/2024 12:30:48] \"\u001b[35m\u001b[1mGET /?image_url=https://projects.rolandoandrade.me/identity/Busg.png HTTP/1.1\u001b[0m\" 500 -\n",
            "ERROR:__main__:Exception on / [GET]\n",
            "Traceback (most recent call last):\n",
            "  File \"/usr/local/lib/python3.10/dist-packages/flask/app.py\", line 1455, in wsgi_app\n",
            "    response = self.full_dispatch_request()\n",
            "  File \"/usr/local/lib/python3.10/dist-packages/flask/app.py\", line 869, in full_dispatch_request\n",
            "    rv = self.handle_user_exception(e)\n",
            "  File \"/usr/local/lib/python3.10/dist-packages/flask/app.py\", line 867, in full_dispatch_request\n",
            "    rv = self.dispatch_request()\n",
            "  File \"/usr/local/lib/python3.10/dist-packages/flask/app.py\", line 852, in dispatch_request\n",
            "    return self.ensure_sync(self.view_functions[rule.endpoint])(**view_args)\n",
            "  File \"<ipython-input-23-7af591fabbb4>\", line 10, in hello\n",
            "    response = identify(data)\n",
            "  File \"<ipython-input-19-78f539e0d4e5>\", line 10, in identify\n",
            "    target = best_clf.predict([image_data])[0]\n",
            "  File \"/usr/local/lib/python3.10/dist-packages/sklearn/pipeline.py\", line 480, in predict\n",
            "    Xt = transform.transform(Xt)\n",
            "  File \"/usr/local/lib/python3.10/dist-packages/sklearn/utils/_set_output.py\", line 140, in wrapped\n",
            "    data_to_wrap = f(self, X, *args, **kwargs)\n",
            "  File \"/usr/local/lib/python3.10/dist-packages/sklearn/decomposition/_base.py\", line 120, in transform\n",
            "    X = self._validate_data(X, dtype=[np.float64, np.float32], reset=False)\n",
            "  File \"/usr/local/lib/python3.10/dist-packages/sklearn/base.py\", line 565, in _validate_data\n",
            "    X = check_array(X, input_name=\"X\", **check_params)\n",
            "  File \"/usr/local/lib/python3.10/dist-packages/sklearn/utils/validation.py\", line 902, in check_array\n",
            "    raise ValueError(\n",
            "ValueError: Expected 2D array, got 1D array instead:\n",
            "array=[nan].\n",
            "Reshape your data either using array.reshape(-1, 1) if your data has a single feature or array.reshape(1, -1) if it contains a single sample.\n",
            "INFO:werkzeug:127.0.0.1 - - [29/Apr/2024 12:30:48] \"\u001b[35m\u001b[1mGET /?image_url=https://projects.rolandoandrade.me/identity/Bus.png HTTP/1.1\u001b[0m\" 500 -\n"
          ]
        },
        {
          "name": "stdout",
          "output_type": "stream",
          "text": [
            "Failed to download the image. 404\n",
            "Failed to download the image. 404\n"
          ]
        },
        {
          "name": "stderr",
          "output_type": "stream",
          "text": [
            "INFO:werkzeug:127.0.0.1 - - [29/Apr/2024 12:30:49] \"GET /?image_url=https://projects.rolandoandrade.me/identity/Bush.png HTTP/1.1\" 200 -\n",
            "INFO:werkzeug:127.0.0.1 - - [29/Apr/2024 12:30:49] \"GET /?image_url=https://projects.rolandoandrade.me/identity/Bush2.png HTTP/1.1\" 200 -\n",
            "ERROR:__main__:Exception on / [GET]\n",
            "Traceback (most recent call last):\n",
            "  File \"/usr/local/lib/python3.10/dist-packages/flask/app.py\", line 1455, in wsgi_app\n",
            "    response = self.full_dispatch_request()\n",
            "  File \"/usr/local/lib/python3.10/dist-packages/flask/app.py\", line 869, in full_dispatch_request\n",
            "    rv = self.handle_user_exception(e)\n",
            "  File \"/usr/local/lib/python3.10/dist-packages/flask/app.py\", line 867, in full_dispatch_request\n",
            "    rv = self.dispatch_request()\n",
            "  File \"/usr/local/lib/python3.10/dist-packages/flask/app.py\", line 852, in dispatch_request\n",
            "    return self.ensure_sync(self.view_functions[rule.endpoint])(**view_args)\n",
            "  File \"<ipython-input-23-7af591fabbb4>\", line 10, in hello\n",
            "    response = identify(data)\n",
            "  File \"<ipython-input-19-78f539e0d4e5>\", line 10, in identify\n",
            "    target = best_clf.predict([image_data])[0]\n",
            "  File \"/usr/local/lib/python3.10/dist-packages/sklearn/pipeline.py\", line 480, in predict\n",
            "    Xt = transform.transform(Xt)\n",
            "  File \"/usr/local/lib/python3.10/dist-packages/sklearn/utils/_set_output.py\", line 140, in wrapped\n",
            "    data_to_wrap = f(self, X, *args, **kwargs)\n",
            "  File \"/usr/local/lib/python3.10/dist-packages/sklearn/decomposition/_base.py\", line 120, in transform\n",
            "    X = self._validate_data(X, dtype=[np.float64, np.float32], reset=False)\n",
            "  File \"/usr/local/lib/python3.10/dist-packages/sklearn/base.py\", line 565, in _validate_data\n",
            "    X = check_array(X, input_name=\"X\", **check_params)\n",
            "  File \"/usr/local/lib/python3.10/dist-packages/sklearn/utils/validation.py\", line 902, in check_array\n",
            "    raise ValueError(\n",
            "ValueError: Expected 2D array, got 1D array instead:\n",
            "array=[nan].\n",
            "Reshape your data either using array.reshape(-1, 1) if your data has a single feature or array.reshape(1, -1) if it contains a single sample.\n",
            "INFO:werkzeug:127.0.0.1 - - [29/Apr/2024 12:31:08] \"\u001b[35m\u001b[1mGET /?image_url=https://projects.rolandoandrade.me/identity/B.png HTTP/1.1\u001b[0m\" 500 -\n"
          ]
        },
        {
          "name": "stdout",
          "output_type": "stream",
          "text": [
            "Failed to download the image. 404\n"
          ]
        },
        {
          "name": "stderr",
          "output_type": "stream",
          "text": [
            "ERROR:__main__:Exception on / [GET]\n",
            "Traceback (most recent call last):\n",
            "  File \"/usr/local/lib/python3.10/dist-packages/flask/app.py\", line 1455, in wsgi_app\n",
            "    response = self.full_dispatch_request()\n",
            "  File \"/usr/local/lib/python3.10/dist-packages/flask/app.py\", line 869, in full_dispatch_request\n",
            "    rv = self.handle_user_exception(e)\n",
            "  File \"/usr/local/lib/python3.10/dist-packages/flask/app.py\", line 867, in full_dispatch_request\n",
            "    rv = self.dispatch_request()\n",
            "  File \"/usr/local/lib/python3.10/dist-packages/flask/app.py\", line 852, in dispatch_request\n",
            "    return self.ensure_sync(self.view_functions[rule.endpoint])(**view_args)\n",
            "  File \"<ipython-input-23-7af591fabbb4>\", line 10, in hello\n",
            "    response = identify(data)\n",
            "  File \"<ipython-input-19-78f539e0d4e5>\", line 10, in identify\n",
            "    target = best_clf.predict([image_data])[0]\n",
            "  File \"/usr/local/lib/python3.10/dist-packages/sklearn/pipeline.py\", line 480, in predict\n",
            "    Xt = transform.transform(Xt)\n",
            "  File \"/usr/local/lib/python3.10/dist-packages/sklearn/utils/_set_output.py\", line 140, in wrapped\n",
            "    data_to_wrap = f(self, X, *args, **kwargs)\n",
            "  File \"/usr/local/lib/python3.10/dist-packages/sklearn/decomposition/_base.py\", line 120, in transform\n",
            "    X = self._validate_data(X, dtype=[np.float64, np.float32], reset=False)\n",
            "  File \"/usr/local/lib/python3.10/dist-packages/sklearn/base.py\", line 565, in _validate_data\n",
            "    X = check_array(X, input_name=\"X\", **check_params)\n",
            "  File \"/usr/local/lib/python3.10/dist-packages/sklearn/utils/validation.py\", line 902, in check_array\n",
            "    raise ValueError(\n",
            "ValueError: Expected 2D array, got 1D array instead:\n",
            "array=[nan].\n",
            "Reshape your data either using array.reshape(-1, 1) if your data has a single feature or array.reshape(1, -1) if it contains a single sample.\n",
            "INFO:werkzeug:127.0.0.1 - - [29/Apr/2024 12:31:08] \"\u001b[35m\u001b[1mGET /?image_url=https://projects.rolandoandrade.me/identity/Bl.png HTTP/1.1\u001b[0m\" 500 -\n",
            "ERROR:__main__:Exception on / [GET]\n",
            "Traceback (most recent call last):\n",
            "  File \"/usr/local/lib/python3.10/dist-packages/flask/app.py\", line 1455, in wsgi_app\n",
            "    response = self.full_dispatch_request()\n",
            "  File \"/usr/local/lib/python3.10/dist-packages/flask/app.py\", line 869, in full_dispatch_request\n",
            "    rv = self.handle_user_exception(e)\n",
            "  File \"/usr/local/lib/python3.10/dist-packages/flask/app.py\", line 867, in full_dispatch_request\n",
            "    rv = self.dispatch_request()\n",
            "  File \"/usr/local/lib/python3.10/dist-packages/flask/app.py\", line 852, in dispatch_request\n",
            "    return self.ensure_sync(self.view_functions[rule.endpoint])(**view_args)\n",
            "  File \"<ipython-input-23-7af591fabbb4>\", line 10, in hello\n",
            "    response = identify(data)\n",
            "  File \"<ipython-input-19-78f539e0d4e5>\", line 10, in identify\n",
            "    target = best_clf.predict([image_data])[0]\n",
            "  File \"/usr/local/lib/python3.10/dist-packages/sklearn/pipeline.py\", line 480, in predict\n",
            "    Xt = transform.transform(Xt)\n",
            "  File \"/usr/local/lib/python3.10/dist-packages/sklearn/utils/_set_output.py\", line 140, in wrapped\n",
            "    data_to_wrap = f(self, X, *args, **kwargs)\n",
            "  File \"/usr/local/lib/python3.10/dist-packages/sklearn/decomposition/_base.py\", line 120, in transform\n",
            "    X = self._validate_data(X, dtype=[np.float64, np.float32], reset=False)\n",
            "  File \"/usr/local/lib/python3.10/dist-packages/sklearn/base.py\", line 565, in _validate_data\n",
            "    X = check_array(X, input_name=\"X\", **check_params)\n",
            "  File \"/usr/local/lib/python3.10/dist-packages/sklearn/utils/validation.py\", line 902, in check_array\n",
            "    raise ValueError(\n",
            "ValueError: Expected 2D array, got 1D array instead:\n",
            "array=[nan].\n",
            "Reshape your data either using array.reshape(-1, 1) if your data has a single feature or array.reshape(1, -1) if it contains a single sample.\n",
            "INFO:werkzeug:127.0.0.1 - - [29/Apr/2024 12:31:08] \"\u001b[35m\u001b[1mGET /?image_url=https://projects.rolandoandrade.me/identity/Bla.png HTTP/1.1\u001b[0m\" 500 -\n"
          ]
        },
        {
          "name": "stdout",
          "output_type": "stream",
          "text": [
            "Failed to download the image. 404\n",
            "Failed to download the image. 404\n"
          ]
        },
        {
          "name": "stderr",
          "output_type": "stream",
          "text": [
            "ERROR:__main__:Exception on / [GET]\n",
            "Traceback (most recent call last):\n",
            "  File \"/usr/local/lib/python3.10/dist-packages/flask/app.py\", line 1455, in wsgi_app\n",
            "    response = self.full_dispatch_request()\n",
            "  File \"/usr/local/lib/python3.10/dist-packages/flask/app.py\", line 869, in full_dispatch_request\n",
            "    rv = self.handle_user_exception(e)\n",
            "  File \"/usr/local/lib/python3.10/dist-packages/flask/app.py\", line 867, in full_dispatch_request\n",
            "    rv = self.dispatch_request()\n",
            "  File \"/usr/local/lib/python3.10/dist-packages/flask/app.py\", line 852, in dispatch_request\n",
            "    return self.ensure_sync(self.view_functions[rule.endpoint])(**view_args)\n",
            "  File \"<ipython-input-23-7af591fabbb4>\", line 10, in hello\n",
            "    response = identify(data)\n",
            "  File \"<ipython-input-19-78f539e0d4e5>\", line 10, in identify\n",
            "    target = best_clf.predict([image_data])[0]\n",
            "  File \"/usr/local/lib/python3.10/dist-packages/sklearn/pipeline.py\", line 480, in predict\n",
            "    Xt = transform.transform(Xt)\n",
            "  File \"/usr/local/lib/python3.10/dist-packages/sklearn/utils/_set_output.py\", line 140, in wrapped\n",
            "    data_to_wrap = f(self, X, *args, **kwargs)\n",
            "  File \"/usr/local/lib/python3.10/dist-packages/sklearn/decomposition/_base.py\", line 120, in transform\n",
            "    X = self._validate_data(X, dtype=[np.float64, np.float32], reset=False)\n",
            "  File \"/usr/local/lib/python3.10/dist-packages/sklearn/base.py\", line 565, in _validate_data\n",
            "    X = check_array(X, input_name=\"X\", **check_params)\n",
            "  File \"/usr/local/lib/python3.10/dist-packages/sklearn/utils/validation.py\", line 902, in check_array\n",
            "    raise ValueError(\n",
            "ValueError: Expected 2D array, got 1D array instead:\n",
            "array=[nan].\n",
            "Reshape your data either using array.reshape(-1, 1) if your data has a single feature or array.reshape(1, -1) if it contains a single sample.\n",
            "INFO:werkzeug:127.0.0.1 - - [29/Apr/2024 12:31:09] \"\u001b[35m\u001b[1mGET /?image_url=https://projects.rolandoandrade.me/identity/Blai.png HTTP/1.1\u001b[0m\" 500 -\n",
            "INFO:werkzeug:127.0.0.1 - - [29/Apr/2024 12:31:09] \"GET /?image_url=https://projects.rolandoandrade.me/identity/Blair.png HTTP/1.1\" 200 -\n"
          ]
        },
        {
          "name": "stdout",
          "output_type": "stream",
          "text": [
            "Failed to download the image. 404\n"
          ]
        },
        {
          "name": "stderr",
          "output_type": "stream",
          "text": [
            "ERROR:__main__:Exception on / [GET]\n",
            "Traceback (most recent call last):\n",
            "  File \"/usr/local/lib/python3.10/dist-packages/flask/app.py\", line 1455, in wsgi_app\n",
            "    response = self.full_dispatch_request()\n",
            "  File \"/usr/local/lib/python3.10/dist-packages/flask/app.py\", line 869, in full_dispatch_request\n",
            "    rv = self.handle_user_exception(e)\n",
            "  File \"/usr/local/lib/python3.10/dist-packages/flask/app.py\", line 867, in full_dispatch_request\n",
            "    rv = self.dispatch_request()\n",
            "  File \"/usr/local/lib/python3.10/dist-packages/flask/app.py\", line 852, in dispatch_request\n",
            "    return self.ensure_sync(self.view_functions[rule.endpoint])(**view_args)\n",
            "  File \"<ipython-input-23-7af591fabbb4>\", line 10, in hello\n",
            "    response = identify(data)\n",
            "  File \"<ipython-input-19-78f539e0d4e5>\", line 10, in identify\n",
            "    target = best_clf.predict([image_data])[0]\n",
            "  File \"/usr/local/lib/python3.10/dist-packages/sklearn/pipeline.py\", line 480, in predict\n",
            "    Xt = transform.transform(Xt)\n",
            "  File \"/usr/local/lib/python3.10/dist-packages/sklearn/utils/_set_output.py\", line 140, in wrapped\n",
            "    data_to_wrap = f(self, X, *args, **kwargs)\n",
            "  File \"/usr/local/lib/python3.10/dist-packages/sklearn/decomposition/_base.py\", line 120, in transform\n",
            "    X = self._validate_data(X, dtype=[np.float64, np.float32], reset=False)\n",
            "  File \"/usr/local/lib/python3.10/dist-packages/sklearn/base.py\", line 565, in _validate_data\n",
            "    X = check_array(X, input_name=\"X\", **check_params)\n",
            "  File \"/usr/local/lib/python3.10/dist-packages/sklearn/utils/validation.py\", line 902, in check_array\n",
            "    raise ValueError(\n",
            "ValueError: Expected 2D array, got 1D array instead:\n",
            "array=[nan].\n",
            "Reshape your data either using array.reshape(-1, 1) if your data has a single feature or array.reshape(1, -1) if it contains a single sample.\n",
            "INFO:werkzeug:127.0.0.1 - - [29/Apr/2024 12:31:14] \"\u001b[35m\u001b[1mGET /?image_url=https://projects.rolandoandrade.me/identity/R.png HTTP/1.1\u001b[0m\" 500 -\n"
          ]
        },
        {
          "name": "stdout",
          "output_type": "stream",
          "text": [
            "Failed to download the image. 404\n"
          ]
        },
        {
          "name": "stderr",
          "output_type": "stream",
          "text": [
            "ERROR:__main__:Exception on / [GET]\n",
            "Traceback (most recent call last):\n",
            "  File \"/usr/local/lib/python3.10/dist-packages/flask/app.py\", line 1455, in wsgi_app\n",
            "    response = self.full_dispatch_request()\n",
            "  File \"/usr/local/lib/python3.10/dist-packages/flask/app.py\", line 869, in full_dispatch_request\n",
            "    rv = self.handle_user_exception(e)\n",
            "  File \"/usr/local/lib/python3.10/dist-packages/flask/app.py\", line 867, in full_dispatch_request\n",
            "    rv = self.dispatch_request()\n",
            "  File \"/usr/local/lib/python3.10/dist-packages/flask/app.py\", line 852, in dispatch_request\n",
            "    return self.ensure_sync(self.view_functions[rule.endpoint])(**view_args)\n",
            "  File \"<ipython-input-23-7af591fabbb4>\", line 10, in hello\n",
            "    response = identify(data)\n",
            "  File \"<ipython-input-19-78f539e0d4e5>\", line 10, in identify\n",
            "    target = best_clf.predict([image_data])[0]\n",
            "  File \"/usr/local/lib/python3.10/dist-packages/sklearn/pipeline.py\", line 480, in predict\n",
            "    Xt = transform.transform(Xt)\n",
            "  File \"/usr/local/lib/python3.10/dist-packages/sklearn/utils/_set_output.py\", line 140, in wrapped\n",
            "    data_to_wrap = f(self, X, *args, **kwargs)\n",
            "  File \"/usr/local/lib/python3.10/dist-packages/sklearn/decomposition/_base.py\", line 120, in transform\n",
            "    X = self._validate_data(X, dtype=[np.float64, np.float32], reset=False)\n",
            "  File \"/usr/local/lib/python3.10/dist-packages/sklearn/base.py\", line 565, in _validate_data\n",
            "    X = check_array(X, input_name=\"X\", **check_params)\n",
            "  File \"/usr/local/lib/python3.10/dist-packages/sklearn/utils/validation.py\", line 902, in check_array\n",
            "    raise ValueError(\n",
            "ValueError: Expected 2D array, got 1D array instead:\n",
            "array=[nan].\n",
            "Reshape your data either using array.reshape(-1, 1) if your data has a single feature or array.reshape(1, -1) if it contains a single sample.\n",
            "INFO:werkzeug:127.0.0.1 - - [29/Apr/2024 12:31:14] \"\u001b[35m\u001b[1mGET /?image_url=https://projects.rolandoandrade.me/identity/Ru.png HTTP/1.1\u001b[0m\" 500 -\n"
          ]
        },
        {
          "name": "stdout",
          "output_type": "stream",
          "text": [
            "Failed to download the image. 404\n",
            "Failed to download the image. 404\n"
          ]
        },
        {
          "name": "stderr",
          "output_type": "stream",
          "text": [
            "ERROR:__main__:Exception on / [GET]\n",
            "Traceback (most recent call last):\n",
            "  File \"/usr/local/lib/python3.10/dist-packages/flask/app.py\", line 1455, in wsgi_app\n",
            "    response = self.full_dispatch_request()\n",
            "  File \"/usr/local/lib/python3.10/dist-packages/flask/app.py\", line 869, in full_dispatch_request\n",
            "    rv = self.handle_user_exception(e)\n",
            "  File \"/usr/local/lib/python3.10/dist-packages/flask/app.py\", line 867, in full_dispatch_request\n",
            "    rv = self.dispatch_request()\n",
            "  File \"/usr/local/lib/python3.10/dist-packages/flask/app.py\", line 852, in dispatch_request\n",
            "    return self.ensure_sync(self.view_functions[rule.endpoint])(**view_args)\n",
            "  File \"<ipython-input-23-7af591fabbb4>\", line 10, in hello\n",
            "    response = identify(data)\n",
            "  File \"<ipython-input-19-78f539e0d4e5>\", line 10, in identify\n",
            "    target = best_clf.predict([image_data])[0]\n",
            "  File \"/usr/local/lib/python3.10/dist-packages/sklearn/pipeline.py\", line 480, in predict\n",
            "    Xt = transform.transform(Xt)\n",
            "  File \"/usr/local/lib/python3.10/dist-packages/sklearn/utils/_set_output.py\", line 140, in wrapped\n",
            "    data_to_wrap = f(self, X, *args, **kwargs)\n",
            "  File \"/usr/local/lib/python3.10/dist-packages/sklearn/decomposition/_base.py\", line 120, in transform\n",
            "    X = self._validate_data(X, dtype=[np.float64, np.float32], reset=False)\n",
            "  File \"/usr/local/lib/python3.10/dist-packages/sklearn/base.py\", line 565, in _validate_data\n",
            "    X = check_array(X, input_name=\"X\", **check_params)\n",
            "  File \"/usr/local/lib/python3.10/dist-packages/sklearn/utils/validation.py\", line 902, in check_array\n",
            "    raise ValueError(\n",
            "ValueError: Expected 2D array, got 1D array instead:\n",
            "array=[nan].\n",
            "Reshape your data either using array.reshape(-1, 1) if your data has a single feature or array.reshape(1, -1) if it contains a single sample.\n",
            "INFO:werkzeug:127.0.0.1 - - [29/Apr/2024 12:31:15] \"\u001b[35m\u001b[1mGET /?image_url=https://projects.rolandoandrade.me/identity/Rum.png HTTP/1.1\u001b[0m\" 500 -\n",
            "ERROR:__main__:Exception on / [GET]\n",
            "Traceback (most recent call last):\n",
            "  File \"/usr/local/lib/python3.10/dist-packages/flask/app.py\", line 1455, in wsgi_app\n",
            "    response = self.full_dispatch_request()\n",
            "  File \"/usr/local/lib/python3.10/dist-packages/flask/app.py\", line 869, in full_dispatch_request\n",
            "    rv = self.handle_user_exception(e)\n",
            "  File \"/usr/local/lib/python3.10/dist-packages/flask/app.py\", line 867, in full_dispatch_request\n",
            "    rv = self.dispatch_request()\n",
            "  File \"/usr/local/lib/python3.10/dist-packages/flask/app.py\", line 852, in dispatch_request\n",
            "    return self.ensure_sync(self.view_functions[rule.endpoint])(**view_args)\n",
            "  File \"<ipython-input-23-7af591fabbb4>\", line 10, in hello\n",
            "    response = identify(data)\n",
            "  File \"<ipython-input-19-78f539e0d4e5>\", line 10, in identify\n",
            "    target = best_clf.predict([image_data])[0]\n",
            "  File \"/usr/local/lib/python3.10/dist-packages/sklearn/pipeline.py\", line 480, in predict\n",
            "    Xt = transform.transform(Xt)\n",
            "  File \"/usr/local/lib/python3.10/dist-packages/sklearn/utils/_set_output.py\", line 140, in wrapped\n",
            "    data_to_wrap = f(self, X, *args, **kwargs)\n",
            "  File \"/usr/local/lib/python3.10/dist-packages/sklearn/decomposition/_base.py\", line 120, in transform\n",
            "    X = self._validate_data(X, dtype=[np.float64, np.float32], reset=False)\n",
            "  File \"/usr/local/lib/python3.10/dist-packages/sklearn/base.py\", line 565, in _validate_data\n",
            "    X = check_array(X, input_name=\"X\", **check_params)\n",
            "  File \"/usr/local/lib/python3.10/dist-packages/sklearn/utils/validation.py\", line 902, in check_array\n",
            "    raise ValueError(\n",
            "ValueError: Expected 2D array, got 1D array instead:\n",
            "array=[nan].\n",
            "Reshape your data either using array.reshape(-1, 1) if your data has a single feature or array.reshape(1, -1) if it contains a single sample.\n",
            "INFO:werkzeug:127.0.0.1 - - [29/Apr/2024 12:31:15] \"\u001b[35m\u001b[1mGET /?image_url=https://projects.rolandoandrade.me/identity/Rums.png HTTP/1.1\u001b[0m\" 500 -\n"
          ]
        },
        {
          "name": "stdout",
          "output_type": "stream",
          "text": [
            "Failed to download the image. 404\n"
          ]
        },
        {
          "name": "stderr",
          "output_type": "stream",
          "text": [
            "ERROR:__main__:Exception on / [GET]\n",
            "Traceback (most recent call last):\n",
            "  File \"/usr/local/lib/python3.10/dist-packages/flask/app.py\", line 1455, in wsgi_app\n",
            "    response = self.full_dispatch_request()\n",
            "  File \"/usr/local/lib/python3.10/dist-packages/flask/app.py\", line 869, in full_dispatch_request\n",
            "    rv = self.handle_user_exception(e)\n",
            "  File \"/usr/local/lib/python3.10/dist-packages/flask/app.py\", line 867, in full_dispatch_request\n",
            "    rv = self.dispatch_request()\n",
            "  File \"/usr/local/lib/python3.10/dist-packages/flask/app.py\", line 852, in dispatch_request\n",
            "    return self.ensure_sync(self.view_functions[rule.endpoint])(**view_args)\n",
            "  File \"<ipython-input-23-7af591fabbb4>\", line 10, in hello\n",
            "    response = identify(data)\n",
            "  File \"<ipython-input-19-78f539e0d4e5>\", line 10, in identify\n",
            "    target = best_clf.predict([image_data])[0]\n",
            "  File \"/usr/local/lib/python3.10/dist-packages/sklearn/pipeline.py\", line 480, in predict\n",
            "    Xt = transform.transform(Xt)\n",
            "  File \"/usr/local/lib/python3.10/dist-packages/sklearn/utils/_set_output.py\", line 140, in wrapped\n",
            "    data_to_wrap = f(self, X, *args, **kwargs)\n",
            "  File \"/usr/local/lib/python3.10/dist-packages/sklearn/decomposition/_base.py\", line 120, in transform\n",
            "    X = self._validate_data(X, dtype=[np.float64, np.float32], reset=False)\n",
            "  File \"/usr/local/lib/python3.10/dist-packages/sklearn/base.py\", line 565, in _validate_data\n",
            "    X = check_array(X, input_name=\"X\", **check_params)\n",
            "  File \"/usr/local/lib/python3.10/dist-packages/sklearn/utils/validation.py\", line 902, in check_array\n",
            "    raise ValueError(\n",
            "ValueError: Expected 2D array, got 1D array instead:\n",
            "array=[nan].\n",
            "Reshape your data either using array.reshape(-1, 1) if your data has a single feature or array.reshape(1, -1) if it contains a single sample.\n",
            "INFO:werkzeug:127.0.0.1 - - [29/Apr/2024 12:31:15] \"\u001b[35m\u001b[1mGET /?image_url=https://projects.rolandoandrade.me/identity/Rumsf.png HTTP/1.1\u001b[0m\" 500 -\n",
            "ERROR:__main__:Exception on / [GET]\n",
            "Traceback (most recent call last):\n",
            "  File \"/usr/local/lib/python3.10/dist-packages/flask/app.py\", line 1455, in wsgi_app\n",
            "    response = self.full_dispatch_request()\n",
            "  File \"/usr/local/lib/python3.10/dist-packages/flask/app.py\", line 869, in full_dispatch_request\n",
            "    rv = self.handle_user_exception(e)\n",
            "  File \"/usr/local/lib/python3.10/dist-packages/flask/app.py\", line 867, in full_dispatch_request\n",
            "    rv = self.dispatch_request()\n",
            "  File \"/usr/local/lib/python3.10/dist-packages/flask/app.py\", line 852, in dispatch_request\n",
            "    return self.ensure_sync(self.view_functions[rule.endpoint])(**view_args)\n",
            "  File \"<ipython-input-23-7af591fabbb4>\", line 10, in hello\n",
            "    response = identify(data)\n",
            "  File \"<ipython-input-19-78f539e0d4e5>\", line 10, in identify\n",
            "    target = best_clf.predict([image_data])[0]\n",
            "  File \"/usr/local/lib/python3.10/dist-packages/sklearn/pipeline.py\", line 480, in predict\n",
            "    Xt = transform.transform(Xt)\n",
            "  File \"/usr/local/lib/python3.10/dist-packages/sklearn/utils/_set_output.py\", line 140, in wrapped\n",
            "    data_to_wrap = f(self, X, *args, **kwargs)\n",
            "  File \"/usr/local/lib/python3.10/dist-packages/sklearn/decomposition/_base.py\", line 120, in transform\n",
            "    X = self._validate_data(X, dtype=[np.float64, np.float32], reset=False)\n",
            "  File \"/usr/local/lib/python3.10/dist-packages/sklearn/base.py\", line 565, in _validate_data\n",
            "    X = check_array(X, input_name=\"X\", **check_params)\n",
            "  File \"/usr/local/lib/python3.10/dist-packages/sklearn/utils/validation.py\", line 902, in check_array\n",
            "    raise ValueError(\n",
            "ValueError: Expected 2D array, got 1D array instead:\n",
            "array=[nan].\n",
            "Reshape your data either using array.reshape(-1, 1) if your data has a single feature or array.reshape(1, -1) if it contains a single sample.\n",
            "INFO:werkzeug:127.0.0.1 - - [29/Apr/2024 12:31:15] \"\u001b[35m\u001b[1mGET /?image_url=https://projects.rolandoandrade.me/identity/Rumsfe.png HTTP/1.1\u001b[0m\" 500 -\n"
          ]
        },
        {
          "name": "stdout",
          "output_type": "stream",
          "text": [
            "Failed to download the image. 404\n",
            "Failed to download the image. 404\n"
          ]
        },
        {
          "name": "stderr",
          "output_type": "stream",
          "text": [
            "ERROR:__main__:Exception on / [GET]\n",
            "Traceback (most recent call last):\n",
            "  File \"/usr/local/lib/python3.10/dist-packages/flask/app.py\", line 1455, in wsgi_app\n",
            "    response = self.full_dispatch_request()\n",
            "  File \"/usr/local/lib/python3.10/dist-packages/flask/app.py\", line 869, in full_dispatch_request\n",
            "    rv = self.handle_user_exception(e)\n",
            "  File \"/usr/local/lib/python3.10/dist-packages/flask/app.py\", line 867, in full_dispatch_request\n",
            "    rv = self.dispatch_request()\n",
            "  File \"/usr/local/lib/python3.10/dist-packages/flask/app.py\", line 852, in dispatch_request\n",
            "    return self.ensure_sync(self.view_functions[rule.endpoint])(**view_args)\n",
            "  File \"<ipython-input-23-7af591fabbb4>\", line 10, in hello\n",
            "    response = identify(data)\n",
            "  File \"<ipython-input-19-78f539e0d4e5>\", line 10, in identify\n",
            "    target = best_clf.predict([image_data])[0]\n",
            "  File \"/usr/local/lib/python3.10/dist-packages/sklearn/pipeline.py\", line 480, in predict\n",
            "    Xt = transform.transform(Xt)\n",
            "  File \"/usr/local/lib/python3.10/dist-packages/sklearn/utils/_set_output.py\", line 140, in wrapped\n",
            "    data_to_wrap = f(self, X, *args, **kwargs)\n",
            "  File \"/usr/local/lib/python3.10/dist-packages/sklearn/decomposition/_base.py\", line 120, in transform\n",
            "    X = self._validate_data(X, dtype=[np.float64, np.float32], reset=False)\n",
            "  File \"/usr/local/lib/python3.10/dist-packages/sklearn/base.py\", line 565, in _validate_data\n",
            "    X = check_array(X, input_name=\"X\", **check_params)\n",
            "  File \"/usr/local/lib/python3.10/dist-packages/sklearn/utils/validation.py\", line 902, in check_array\n",
            "    raise ValueError(\n",
            "ValueError: Expected 2D array, got 1D array instead:\n",
            "array=[nan].\n",
            "Reshape your data either using array.reshape(-1, 1) if your data has a single feature or array.reshape(1, -1) if it contains a single sample.\n",
            "INFO:werkzeug:127.0.0.1 - - [29/Apr/2024 12:31:16] \"\u001b[35m\u001b[1mGET /?image_url=https://projects.rolandoandrade.me/identity/Rumsfel.png HTTP/1.1\u001b[0m\" 500 -\n",
            "ERROR:__main__:Exception on / [GET]\n",
            "Traceback (most recent call last):\n",
            "  File \"/usr/local/lib/python3.10/dist-packages/flask/app.py\", line 1455, in wsgi_app\n",
            "    response = self.full_dispatch_request()\n",
            "  File \"/usr/local/lib/python3.10/dist-packages/flask/app.py\", line 869, in full_dispatch_request\n",
            "    rv = self.handle_user_exception(e)\n",
            "  File \"/usr/local/lib/python3.10/dist-packages/flask/app.py\", line 867, in full_dispatch_request\n",
            "    rv = self.dispatch_request()\n",
            "  File \"/usr/local/lib/python3.10/dist-packages/flask/app.py\", line 852, in dispatch_request\n",
            "    return self.ensure_sync(self.view_functions[rule.endpoint])(**view_args)\n",
            "  File \"<ipython-input-23-7af591fabbb4>\", line 10, in hello\n",
            "    response = identify(data)\n",
            "  File \"<ipython-input-19-78f539e0d4e5>\", line 10, in identify\n",
            "    target = best_clf.predict([image_data])[0]\n",
            "  File \"/usr/local/lib/python3.10/dist-packages/sklearn/pipeline.py\", line 480, in predict\n",
            "    Xt = transform.transform(Xt)\n",
            "  File \"/usr/local/lib/python3.10/dist-packages/sklearn/utils/_set_output.py\", line 140, in wrapped\n",
            "    data_to_wrap = f(self, X, *args, **kwargs)\n",
            "  File \"/usr/local/lib/python3.10/dist-packages/sklearn/decomposition/_base.py\", line 120, in transform\n",
            "    X = self._validate_data(X, dtype=[np.float64, np.float32], reset=False)\n",
            "  File \"/usr/local/lib/python3.10/dist-packages/sklearn/base.py\", line 565, in _validate_data\n",
            "    X = check_array(X, input_name=\"X\", **check_params)\n",
            "  File \"/usr/local/lib/python3.10/dist-packages/sklearn/utils/validation.py\", line 902, in check_array\n",
            "    raise ValueError(\n",
            "ValueError: Expected 2D array, got 1D array instead:\n",
            "array=[nan].\n",
            "Reshape your data either using array.reshape(-1, 1) if your data has a single feature or array.reshape(1, -1) if it contains a single sample.\n",
            "INFO:werkzeug:127.0.0.1 - - [29/Apr/2024 12:31:16] \"\u001b[35m\u001b[1mGET /?image_url=https://projects.rolandoandrade.me/identity/Rumsfelt.png HTTP/1.1\u001b[0m\" 500 -\n"
          ]
        },
        {
          "name": "stdout",
          "output_type": "stream",
          "text": [
            "Failed to download the image. 404\n",
            "Failed to download the image. 404\n"
          ]
        },
        {
          "name": "stderr",
          "output_type": "stream",
          "text": [
            "ERROR:__main__:Exception on / [GET]\n",
            "Traceback (most recent call last):\n",
            "  File \"/usr/local/lib/python3.10/dist-packages/flask/app.py\", line 1455, in wsgi_app\n",
            "    response = self.full_dispatch_request()\n",
            "  File \"/usr/local/lib/python3.10/dist-packages/flask/app.py\", line 869, in full_dispatch_request\n",
            "    rv = self.handle_user_exception(e)\n",
            "  File \"/usr/local/lib/python3.10/dist-packages/flask/app.py\", line 867, in full_dispatch_request\n",
            "    rv = self.dispatch_request()\n",
            "  File \"/usr/local/lib/python3.10/dist-packages/flask/app.py\", line 852, in dispatch_request\n",
            "    return self.ensure_sync(self.view_functions[rule.endpoint])(**view_args)\n",
            "  File \"<ipython-input-23-7af591fabbb4>\", line 10, in hello\n",
            "    response = identify(data)\n",
            "  File \"<ipython-input-19-78f539e0d4e5>\", line 10, in identify\n",
            "    target = best_clf.predict([image_data])[0]\n",
            "  File \"/usr/local/lib/python3.10/dist-packages/sklearn/pipeline.py\", line 480, in predict\n",
            "    Xt = transform.transform(Xt)\n",
            "  File \"/usr/local/lib/python3.10/dist-packages/sklearn/utils/_set_output.py\", line 140, in wrapped\n",
            "    data_to_wrap = f(self, X, *args, **kwargs)\n",
            "  File \"/usr/local/lib/python3.10/dist-packages/sklearn/decomposition/_base.py\", line 120, in transform\n",
            "    X = self._validate_data(X, dtype=[np.float64, np.float32], reset=False)\n",
            "  File \"/usr/local/lib/python3.10/dist-packages/sklearn/base.py\", line 565, in _validate_data\n",
            "    X = check_array(X, input_name=\"X\", **check_params)\n",
            "  File \"/usr/local/lib/python3.10/dist-packages/sklearn/utils/validation.py\", line 902, in check_array\n",
            "    raise ValueError(\n",
            "ValueError: Expected 2D array, got 1D array instead:\n",
            "array=[nan].\n",
            "Reshape your data either using array.reshape(-1, 1) if your data has a single feature or array.reshape(1, -1) if it contains a single sample.\n",
            "INFO:werkzeug:127.0.0.1 - - [29/Apr/2024 12:31:16] \"\u001b[35m\u001b[1mGET /?image_url=https://projects.rolandoandrade.me/identity/Rumsfel.png HTTP/1.1\u001b[0m\" 500 -\n",
            "INFO:werkzeug:127.0.0.1 - - [29/Apr/2024 12:31:16] \"GET /?image_url=https://projects.rolandoandrade.me/identity/Rumsfeld.png HTTP/1.1\" 200 -\n"
          ]
        },
        {
          "name": "stdout",
          "output_type": "stream",
          "text": [
            "Failed to download the image. 404\n"
          ]
        }
      ],
      "source": [
        "from flask import Flask, request, jsonify, Response\n",
        "import json\n",
        "\n",
        "app = Flask(__name__)\n",
        "\n",
        "@app.route(\"/\")\n",
        "def hello():\n",
        "  image_url = request.args.get('image_url')\n",
        "  data = download_image(image_url)\n",
        "  response = identify(data)\n",
        "  return Response(json.dumps(response), headers=[('Access-Control-Allow-Origin', '*')])\n",
        "\n",
        "if __name__ == '__main__':\n",
        "    app.run(port = port)"
      ]
    },
    {
      "cell_type": "markdown",
      "metadata": {
        "id": "NhGMBzVf8Jze"
      },
      "source": [
        "# Conclusiones"
      ]
    },
    {
      "cell_type": "markdown",
      "metadata": {
        "id": "ekrNmIyq8PaF"
      },
      "source": [
        "# La verdadera solución\n",
        "\n",
        "Las SVM son probablemente de los algoritmos de machine learning más importantes que han existido, siendo una herramienta muy potente para casi cualquier problema. No obstante, hoy en día existen modelos mucho más poderosos para la detección de rostros basados en redes convolucionales pues es un mecanismo más natural de entender la visión por computador, sin embargo, también son más pesados y complejos de llevar a sistemas de bajos recursos.\n",
        "\n",
        "El modelo más popular para esta tarea a mi consideración es DeepFace."
      ]
    },
    {
      "cell_type": "markdown",
      "metadata": {
        "id": "onKnG4MK-3FQ"
      },
      "source": [
        "# Tu Turno\n",
        "\n",
        "Identifica cardipatías (normales, sospechosas, patológicas) utilizando el siguiente [dataset](https://archive.ics.uci.edu/ml/machine-learning-databases/00193/CTG.xls).\n",
        "\n",
        "Para ello, usa SVC con un kernel RBF y usando un GridSearch para evaluar:\n",
        "\n",
        "```python\n",
        "parameters = {\n",
        "  'C': (100, 1e3, 1e4, 1e5),\n",
        "  'gamma': (1e-08, 1e-7, 1e-6, 1e-5)\n",
        "}\n",
        "```"
      ]
    }
  ],
  "metadata": {
    "colab": {
      "provenance": [],
      "toc_visible": true
    },
    "kernelspec": {
      "display_name": "Python 3",
      "name": "python3"
    },
    "language_info": {
      "name": "python"
    }
  },
  "nbformat": 4,
  "nbformat_minor": 0
}
